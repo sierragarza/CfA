{
 "cells": [
  {
   "cell_type": "markdown",
   "metadata": {},
   "source": [
    "# MinXSS Photon Flux"
   ]
  },
  {
   "cell_type": "code",
   "execution_count": 1,
   "metadata": {},
   "outputs": [],
   "source": [
    "%matplotlib inline\n",
    "import numpy as np\n",
    "import matplotlib.pyplot as plt\n",
    "import matplotlib.dates as mdates\n",
    "\n",
    "from scipy.io.idl import readsav  # Read in IDL .sav files\n",
    "from datetime import datetime\n",
    "\n",
    "from astropy.time import Time   # Format Dates\n",
    "\n",
    "import glob   # Read in multiple .sav files\n",
    "import scipy.io as spio\n",
    "\n",
    "from matplotlib import rc\n",
    "rc('mathtext', default='regular')"
   ]
  },
  {
   "cell_type": "markdown",
   "metadata": {},
   "source": [
    "### Read in file from IDL file"
   ]
  },
  {
   "cell_type": "code",
   "execution_count": 3,
   "metadata": {},
   "outputs": [],
   "source": [
    "# read in file from IDL file\n",
    "MinXSS1_SpPhFlux = readsav('minxss1_l1_15_minute_mission_length/minxss1_l1_15_minute_mission_length.sav')\n"
   ]
  },
  {
   "cell_type": "code",
   "execution_count": 4,
   "metadata": {},
   "outputs": [],
   "source": [
    "#print(MinXSS_SpPhFlux)"
   ]
  },
  {
   "cell_type": "markdown",
   "metadata": {},
   "source": [
    "### Get number of files"
   ]
  },
  {
   "cell_type": "code",
   "execution_count": 5,
   "metadata": {},
   "outputs": [
    {
     "name": "stdout",
     "output_type": "stream",
     "text": [
      "5990\n"
     ]
    }
   ],
   "source": [
    "# Get number of files\n",
    "MinXSS1_X123 = MinXSS1_SpPhFlux.MINXSSLEVEL1_X123\n",
    "N_MinXSS1_X123 = len(MinXSS1_X123)\n",
    "print(len(MinXSS1_X123))"
   ]
  },
  {
   "cell_type": "markdown",
   "metadata": {},
   "source": [
    "### Get range of Energy values"
   ]
  },
  {
   "cell_type": "code",
   "execution_count": 6,
   "metadata": {},
   "outputs": [
    {
     "name": "stdout",
     "output_type": "stream",
     "text": [
      "(array([   0,    1,    2, ..., 5986, 5987, 5989]),)\n"
     ]
    }
   ],
   "source": [
    "# Get range on Energy values from 0.9 to 1.1 keV\n",
    "E_low_0_9_to_1_1_keV = 0.8\n",
    "E_high_0_9_to_1_1_keV = 1.0\n",
    "\n",
    "# Get range on Energy values from 0.7 to 0.9 keV\n",
    "E_low_0_7_to_0_9_keV = 0.5\n",
    "E_high_0_7_to_0_9_keV = 0.7\n",
    "\n",
    "RatioMinXSS1_X123_List = []\n",
    "for t in range(N_MinXSS1_X123):\n",
    "    # Get range on Energy values from 0.9 to 1.1 keV\n",
    "    IndexRange_0_9_to_1_1_keV = ((MinXSS1_X123[t].ENERGY >= E_low_0_9_to_1_1_keV) & (MinXSS1_X123[t].ENERGY <= E_high_0_9_to_1_1_keV)).nonzero()\n",
    "    # Sum up Energy values between 0.9 and 1.1 keV\n",
    "    MinXSS1_X123_SpectrumCPS_0_9_to_1_1_keV = (MinXSS1_X123[t].SPECTRUM_CPS[IndexRange_0_9_to_1_1_keV]).sum()\n",
    "    #print(MinXSS1_X123_SpectrumCPS_0_9_to_1_1_keV)\n",
    "    \n",
    "\n",
    "    # Get range on Energy values from 0.7 to 0.9 keV\n",
    "    IndexRange_0_7_to_0_9_keV = ((MinXSS1_X123[t].ENERGY >= E_low_0_7_to_0_9_keV) & (MinXSS1_X123[t].ENERGY <= E_high_0_7_to_0_9_keV)).nonzero()\n",
    "    # Sum up Energy values between 0.7 to 0.9 keV\n",
    "    MinXSS1_X123_SpectrumCPS_0_7_to_0_9_keV = (MinXSS1_X123[t].SPECTRUM_CPS[IndexRange_0_7_to_0_9_keV]).sum()\n",
    "    #print(MinXSS1_X123_SpectrumCPS_0_7_to_0_9_keV)\n",
    "    \n",
    "    # Get ratio of CPS index range\n",
    "    RatioMinXSS1_X123_IndexRange_0_7_to_0_9_keV = MinXSS1_X123_SpectrumCPS_0_7_to_0_9_keV/MinXSS1_X123_SpectrumCPS_0_9_to_1_1_keV\n",
    "    #print(RatioMinXSS1_X123_IndexRange_0_7_to_0_9_keV)\n",
    "    RatioMinXSS1_X123_List.append(RatioMinXSS1_X123_IndexRange_0_7_to_0_9_keV)\n",
    "    \n",
    "    \n",
    "LimitVal = 0.3   \n",
    "#for t in range(N_MinXSS1_X123):\n",
    "RatioMinXSS1_X123_Array = np.asarray(RatioMinXSS1_X123_List)\n",
    "    # Set limit value\n",
    "IndexRatioMinXSS1_X123_IndexRange_0_7_to_0_9_keV = (RatioMinXSS1_X123_Array <= LimitVal).nonzero()\n",
    "IndexRatioMinXSS1_X123_Array = np.asarray(IndexRatioMinXSS1_X123_IndexRange_0_7_to_0_9_keV)\n",
    "print(IndexRatioMinXSS1_X123_IndexRange_0_7_to_0_9_keV)"
   ]
  },
  {
   "cell_type": "markdown",
   "metadata": {},
   "source": [
    "### Get size of Index Ratio"
   ]
  },
  {
   "cell_type": "code",
   "execution_count": 7,
   "metadata": {},
   "outputs": [
    {
     "name": "stdout",
     "output_type": "stream",
     "text": [
      "5562\n"
     ]
    }
   ],
   "source": [
    "# Get size of Index Ratio\n",
    "N_IndexRatioMinXSS1_X123_Array = IndexRatioMinXSS1_X123_Array.size\n",
    "print(N_IndexRatioMinXSS1_X123_Array)"
   ]
  },
  {
   "cell_type": "markdown",
   "metadata": {},
   "source": [
    "# THIS CELL WILL TAKE AT LEAST 20 MINUTES TO RUN!!!\n",
    "### Calculate counts above threshold\n",
    "### Sum total photon flux over E bins gt 1.0 keV"
   ]
  },
  {
   "cell_type": "code",
   "execution_count": 12,
   "metadata": {},
   "outputs": [
    {
     "ename": "KeyboardInterrupt",
     "evalue": "",
     "output_type": "error",
     "traceback": [
      "\u001b[0;31m---------------------------------------------------------------------------\u001b[0m",
      "\u001b[0;31mKeyboardInterrupt\u001b[0m                         Traceback (most recent call last)",
      "\u001b[0;32m<ipython-input-12-ae803d54ed1f>\u001b[0m in \u001b[0;36m<module>\u001b[0;34m()\u001b[0m\n\u001b[1;32m      7\u001b[0m     \u001b[0;31m#print(MinXSS1_Index_Ratio)\u001b[0m\u001b[0;34m\u001b[0m\u001b[0;34m\u001b[0m\u001b[0m\n\u001b[1;32m      8\u001b[0m     \u001b[0;32mfor\u001b[0m \u001b[0mt\u001b[0m \u001b[0;32min\u001b[0m \u001b[0mrange\u001b[0m\u001b[0;34m(\u001b[0m\u001b[0mN_MinXSS1_X123\u001b[0m\u001b[0;34m)\u001b[0m\u001b[0;34m:\u001b[0m\u001b[0;34m\u001b[0m\u001b[0m\n\u001b[0;32m----> 9\u001b[0;31m         \u001b[0mIndexLevelGT\u001b[0m \u001b[0;34m=\u001b[0m \u001b[0;34m(\u001b[0m\u001b[0mMinXSS1_X123\u001b[0m\u001b[0;34m[\u001b[0m\u001b[0mt\u001b[0m\u001b[0;34m]\u001b[0m\u001b[0;34m.\u001b[0m\u001b[0mENERGY\u001b[0m \u001b[0;34m>=\u001b[0m \u001b[0mLevelGT\u001b[0m\u001b[0;34m)\u001b[0m\u001b[0;34m.\u001b[0m\u001b[0mnonzero\u001b[0m\u001b[0;34m(\u001b[0m\u001b[0;34m)\u001b[0m\u001b[0;34m\u001b[0m\u001b[0m\n\u001b[0m\u001b[1;32m     10\u001b[0m         \u001b[0mMinXSS1_X123_CPS_LevelGT\u001b[0m \u001b[0;34m=\u001b[0m \u001b[0;34m(\u001b[0m\u001b[0mMinXSS1_Index_Ratio\u001b[0m\u001b[0;34m.\u001b[0m\u001b[0mSPECTRUM_CPS\u001b[0m\u001b[0;34m[\u001b[0m\u001b[0mIndexLevelGT\u001b[0m\u001b[0;34m[\u001b[0m\u001b[0;36m0\u001b[0m\u001b[0;34m]\u001b[0m\u001b[0;34m]\u001b[0m\u001b[0;34m)\u001b[0m\u001b[0;34m.\u001b[0m\u001b[0msum\u001b[0m\u001b[0;34m(\u001b[0m\u001b[0;34m)\u001b[0m\u001b[0;34m\u001b[0m\u001b[0m\n\u001b[1;32m     11\u001b[0m         \u001b[0mMinXSS1_X123_TotPhotonFlux\u001b[0m \u001b[0;34m=\u001b[0m \u001b[0;34m(\u001b[0m\u001b[0;34m(\u001b[0m\u001b[0mMinXSS1_Index_Ratio\u001b[0m\u001b[0;34m.\u001b[0m\u001b[0mIRRADIANCE\u001b[0m\u001b[0;34m[\u001b[0m\u001b[0mIndexLevelGT\u001b[0m\u001b[0;34m[\u001b[0m\u001b[0;36m0\u001b[0m\u001b[0;34m]\u001b[0m\u001b[0;34m]\u001b[0m\u001b[0;34m)\u001b[0m\u001b[0;34m*\u001b[0m\u001b[0mNominal_X123_E_Bins_Width_keV\u001b[0m\u001b[0;34m)\u001b[0m\u001b[0;34m.\u001b[0m\u001b[0msum\u001b[0m\u001b[0;34m(\u001b[0m\u001b[0;34m)\u001b[0m\u001b[0;34m\u001b[0m\u001b[0m\n",
      "\u001b[0;32m/usr/local/anaconda3/lib/python3.6/site-packages/numpy/core/records.py\u001b[0m in \u001b[0;36m__getattribute__\u001b[0;34m(self, attr)\u001b[0m\n\u001b[1;32m    244\u001b[0m         \u001b[0mres\u001b[0m \u001b[0;34m=\u001b[0m \u001b[0mfielddict\u001b[0m\u001b[0;34m.\u001b[0m\u001b[0mget\u001b[0m\u001b[0;34m(\u001b[0m\u001b[0mattr\u001b[0m\u001b[0;34m,\u001b[0m \u001b[0;32mNone\u001b[0m\u001b[0;34m)\u001b[0m\u001b[0;34m\u001b[0m\u001b[0m\n\u001b[1;32m    245\u001b[0m         \u001b[0;32mif\u001b[0m \u001b[0mres\u001b[0m\u001b[0;34m:\u001b[0m\u001b[0;34m\u001b[0m\u001b[0m\n\u001b[0;32m--> 246\u001b[0;31m             \u001b[0mobj\u001b[0m \u001b[0;34m=\u001b[0m \u001b[0mself\u001b[0m\u001b[0;34m.\u001b[0m\u001b[0mgetfield\u001b[0m\u001b[0;34m(\u001b[0m\u001b[0;34m*\u001b[0m\u001b[0mres\u001b[0m\u001b[0;34m[\u001b[0m\u001b[0;34m:\u001b[0m\u001b[0;36m2\u001b[0m\u001b[0;34m]\u001b[0m\u001b[0;34m)\u001b[0m\u001b[0;34m\u001b[0m\u001b[0m\n\u001b[0m\u001b[1;32m    247\u001b[0m             \u001b[0;31m# if it has fields return a record,\u001b[0m\u001b[0;34m\u001b[0m\u001b[0;34m\u001b[0m\u001b[0m\n\u001b[1;32m    248\u001b[0m             \u001b[0;31m# otherwise return the object\u001b[0m\u001b[0;34m\u001b[0m\u001b[0;34m\u001b[0m\u001b[0m\n",
      "\u001b[0;32m/usr/local/anaconda3/lib/python3.6/site-packages/numpy/core/_internal.py\u001b[0m in \u001b[0;36m_getfield_is_safe\u001b[0;34m(oldtype, newtype, offset)\u001b[0m\n\u001b[1;32m    355\u001b[0m         \u001b[0;32mif\u001b[0m \u001b[0moldtype\u001b[0m\u001b[0;34m.\u001b[0m\u001b[0mnames\u001b[0m\u001b[0;34m:\u001b[0m\u001b[0;34m\u001b[0m\u001b[0m\n\u001b[1;32m    356\u001b[0m             \u001b[0;32mfor\u001b[0m \u001b[0mname\u001b[0m \u001b[0;32min\u001b[0m \u001b[0moldtype\u001b[0m\u001b[0;34m.\u001b[0m\u001b[0mnames\u001b[0m\u001b[0;34m:\u001b[0m\u001b[0;34m\u001b[0m\u001b[0m\n\u001b[0;32m--> 357\u001b[0;31m                 if (oldtype.fields[name][1] == offset and\n\u001b[0m\u001b[1;32m    358\u001b[0m                         oldtype.fields[name][0] == newtype):\n\u001b[1;32m    359\u001b[0m                     \u001b[0;32mreturn\u001b[0m\u001b[0;34m\u001b[0m\u001b[0m\n",
      "\u001b[0;31mKeyboardInterrupt\u001b[0m: "
     ]
    }
   ],
   "source": [
    "N_Nominal_X123_E_Bins = (MinXSS1_X123[0].ENERGY).size\n",
    "Nominal_X123_E_Bins_Width_keV = np.abs(MinXSS1_X123[0].ENERGY[0] - MinXSS1_X123[0].ENERGY[1])\n",
    "\n",
    "LevelGT = 1.0\n",
    "for i in range(N_IndexRatioMinXSS1_X123_Array):\n",
    "    MinXSS1_Index_Ratio = MinXSS1_X123[IndexRatioMinXSS1_X123_IndexRange_0_7_to_0_9_keV[0][i]]\n",
    "    #print(MinXSS1_Index_Ratio)\n",
    "    for t in range(N_MinXSS1_X123):\n",
    "        IndexLevelGT = (MinXSS1_X123[t].ENERGY >= LevelGT).nonzero()\n",
    "        MinXSS1_X123_CPS_LevelGT = (MinXSS1_Index_Ratio.SPECTRUM_CPS[IndexLevelGT[0]]).sum() \n",
    "        MinXSS1_X123_TotPhotonFlux = ((MinXSS1_Index_Ratio.IRRADIANCE[IndexLevelGT[0]])*Nominal_X123_E_Bins_Width_keV).sum() \n",
    "\n",
    "\n",
    "    #print(MinXSS1_X123_CPS_LevelGT)\n",
    "    #print(MinXSS1_X123_TotPhotonFlux)\n",
    "\n",
    "# Change from tuple to array\n",
    "\n",
    "#IndexLevelGTArray = np.asarray(IndexLevelGT)\n",
    "#N_IndexLevelGTArray = IndexLevelGTArray.size\n",
    "#print(IndexLevelGTArray)"
   ]
  },
  {
   "cell_type": "code",
   "execution_count": 8,
   "metadata": {},
   "outputs": [],
   "source": [
    "#print(IndexLevelGT)"
   ]
  },
  {
   "cell_type": "markdown",
   "metadata": {},
   "source": [
    "## Check output from this point to ensure correct values"
   ]
  },
  {
   "cell_type": "code",
   "execution_count": 9,
   "metadata": {},
   "outputs": [],
   "source": [
    "N_Nominal_X123_E_Bins = (MinXSS1_X123[0].ENERGY).size\n",
    "Nominal_X123_E_Bins_Width_keV = np.abs(MinXSS1_X123[0].ENERGY[0] - MinXSS1_X123[0].ENERGY[1])"
   ]
  },
  {
   "cell_type": "markdown",
   "metadata": {},
   "source": [
    "## Convert Energy into Joules"
   ]
  },
  {
   "cell_type": "code",
   "execution_count": 10,
   "metadata": {},
   "outputs": [],
   "source": [
    "# Convert Energy into Joules\n",
    "Conv_keV_to_joules = 1.60218e-16\n",
    "for t in range(N_Nominal_X123_E_Bins):\n",
    "    X123_ospex_OffsetEbins_keV = MinXSS1_X123[t].ENERGY\n",
    "    X123_Native_Ebins_joules = Conv_keV_to_joules*X123_ospex_OffsetEbins_keV\n",
    "#print(X123_Native_Ebins_joules)"
   ]
  },
  {
   "cell_type": "markdown",
   "metadata": {},
   "source": [
    "### Calculate the MinXSS W m^-2 at 1 AU for E gt 1 keV averaged offset from OSPEX fits"
   ]
  },
  {
   "cell_type": "code",
   "execution_count": 11,
   "metadata": {},
   "outputs": [
    {
     "data": {
      "text/plain": [
       "numpy.ndarray"
      ]
     },
     "execution_count": 11,
     "metadata": {},
     "output_type": "execute_result"
    }
   ],
   "source": [
    "MinXSSx123_PhotonFlux_PhtotelectronArray_1AUadj = np.array([N_Nominal_X123_E_Bins, N_IndexRatioMinXSS1_X123_Array], dtype= float)\n",
    "MinXSSx123_joules_Mflux_Photoelectron = np.array([N_Nominal_X123_E_Bins, N_IndexRatioMinXSS1_X123_Array], dtype= float)\n",
    "MinXSSx123xp_DataCheck_joulesMflux_Photoelectron_1AUadj_gt1keV = np.array(N_IndexRatioMinXSS1_X123_Array, dtype= float)\n",
    "type(MinXSSx123xp_DataCheck_joulesMflux_Photoelectron_1AUadj_gt1keV)"
   ]
  },
  {
   "cell_type": "markdown",
   "metadata": {},
   "source": [
    "## Work in progress: Nested for loop for Photon Flux"
   ]
  },
  {
   "cell_type": "code",
   "execution_count": 20,
   "metadata": {},
   "outputs": [
    {
     "ename": "IndexError",
     "evalue": "too many indices for array",
     "output_type": "error",
     "traceback": [
      "\u001b[0;31m---------------------------------------------------------------------------\u001b[0m",
      "\u001b[0;31mIndexError\u001b[0m                                Traceback (most recent call last)",
      "\u001b[0;32m<ipython-input-20-da7d42997e9a>\u001b[0m in \u001b[0;36m<module>\u001b[0;34m()\u001b[0m\n\u001b[1;32m      5\u001b[0m     \u001b[0;31m# Calculate the E gt 1 keV\u001b[0m\u001b[0;34m\u001b[0m\u001b[0;34m\u001b[0m\u001b[0m\n\u001b[1;32m      6\u001b[0m     \u001b[0;32mfor\u001b[0m \u001b[0mi\u001b[0m \u001b[0;32min\u001b[0m \u001b[0mrange\u001b[0m\u001b[0;34m(\u001b[0m\u001b[0mlen\u001b[0m\u001b[0;34m(\u001b[0m\u001b[0mIndexLevelGT\u001b[0m\u001b[0;34m)\u001b[0m\u001b[0;34m)\u001b[0m\u001b[0;34m:\u001b[0m\u001b[0;34m\u001b[0m\u001b[0m\n\u001b[0;32m----> 7\u001b[0;31m         \u001b[0mMinXSSx123xp_DataCheck_joulesMflux_Photoelectron_1AUadj_gt1keV\u001b[0m\u001b[0;34m[\u001b[0m\u001b[0mk\u001b[0m\u001b[0;34m]\u001b[0m \u001b[0;34m=\u001b[0m \u001b[0;34m(\u001b[0m\u001b[0mMinXSSx123_joules_Mflux_Photoelectron\u001b[0m\u001b[0;34m[\u001b[0m\u001b[0mIndexLevelGT\u001b[0m\u001b[0;34m[\u001b[0m\u001b[0mi\u001b[0m\u001b[0;34m]\u001b[0m\u001b[0;34m,\u001b[0m\u001b[0mk\u001b[0m\u001b[0;34m]\u001b[0m\u001b[0;34m)\u001b[0m\u001b[0;34m.\u001b[0m\u001b[0msum\u001b[0m\u001b[0;34m(\u001b[0m\u001b[0;34m)\u001b[0m\u001b[0;34m\u001b[0m\u001b[0m\n\u001b[0m",
      "\u001b[0;31mIndexError\u001b[0m: too many indices for array"
     ]
    }
   ],
   "source": [
    "Conv_cm_area_to_m_area = (1.0e-2)*(1.0e-2)\n",
    "for k in range(N_IndexRatioMinXSS1_X123_Array):\n",
    "    MinXSSx123_PhotonFlux_PhtotelectronArray_1AUadj = MinXSS1_X123[IndexRatioMinXSS1_X123_IndexRange_0_7_to_0_9_keV[0][k]].EARTH_SUN_DISTANCE*MinXSS1_X123[IndexRatioMinXSS1_X123_IndexRange_0_7_to_0_9_keV[0][k]].IRRADIANCE\n",
    "    MinXSSx123_joules_Mflux_Photoelectron = (X123_Native_Ebins_joules*Nominal_X123_E_Bins_Width_keV*MinXSSx123_PhotonFlux_PhtotelectronArray_1AUadj)/Conv_cm_area_to_m_area\n",
    "    # Calculate the E gt 1 keV\n",
    "    for i in range(len(IndexLevelGT)):\n",
    "        MinXSSx123xp_DataCheck_joulesMflux_Photoelectron_1AUadj_gt1keV[k] = (MinXSSx123_joules_Mflux_Photoelectron[IndexLevelGT[i],k]).sum()"
   ]
  },
  {
   "cell_type": "code",
   "execution_count": null,
   "metadata": {},
   "outputs": [],
   "source": []
  },
  {
   "cell_type": "code",
   "execution_count": null,
   "metadata": {},
   "outputs": [],
   "source": []
  }
 ],
 "metadata": {
  "kernelspec": {
   "display_name": "Python 3",
   "language": "python",
   "name": "python3"
  },
  "language_info": {
   "codemirror_mode": {
    "name": "ipython",
    "version": 3
   },
   "file_extension": ".py",
   "mimetype": "text/x-python",
   "name": "python",
   "nbconvert_exporter": "python",
   "pygments_lexer": "ipython3",
   "version": "3.6.5"
  }
 },
 "nbformat": 4,
 "nbformat_minor": 2
}
