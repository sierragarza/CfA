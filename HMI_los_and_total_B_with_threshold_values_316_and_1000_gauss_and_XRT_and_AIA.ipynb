{
 "cells": [
  {
   "cell_type": "markdown",
   "metadata": {},
   "source": [
    "# Program used to Read in XRT, HMI, and AIA data as well as produce Time Series and Scatter Plots"
   ]
  },
  {
   "cell_type": "code",
   "execution_count": 3,
   "metadata": {},
   "outputs": [],
   "source": [
    "%matplotlib inline\n",
    "import numpy as np\n",
    "import matplotlib.pyplot as plt\n",
    "import matplotlib.dates as mdates\n",
    "\n",
    "import pandas as pd  # Normalize Data\n",
    "from sklearn import preprocessing    # Normalize Data\n",
    "\n",
    "from scipy.io.idl import readsav     # Read in IDL .sav files\n",
    "import scipy\n",
    "from scipy.interpolate import interp1d  # Interpolate Data\n",
    "from datetime import datetime  # Format Dates\n",
    "\n",
    "from astropy.time import Time # Convert XRT dates into Julian Day\n",
    "import statistics\n",
    "\n",
    "import matplotlib.dates as mdates     # Format dates\n",
    "\n",
    "import glob    # Read in multiple IDL .sav files at once\n",
    "import scipy.io as spio\n",
    "\n",
    "from matplotlib import rc\n",
    "rc('mathtext', default='regular')\n",
    "\n",
    "### Correlation Coefficient: a number between −1 and +1 calculated so as to represent the linear dependence of two variables or sets of data.\n",
    "# cross-correlation (look up)\n",
    "# To calculate Correlation Coefficient (Pearson - a measure of the linear correlation between two variables X and Y)\n",
    "from pydoc import help\n",
    "from scipy.stats.stats import pearsonr\n",
    "#help(pearsonr)\n",
    "#Option 1: np.corrcoef(list1, list2)[0, 1]\n",
    "\n",
    "# **** Expected ****\n",
    "# To calculate Correlation Coefficient (Spearman - a measure of how well the relationship between two variables can be described by a monotonic function)\n",
    "from scipy.stats.stats import spearmanr\n",
    "#Option 1: coef, p = spearmanr(data1, data2)"
   ]
  },
  {
   "cell_type": "code",
   "execution_count": 4,
   "metadata": {},
   "outputs": [],
   "source": [
    "#######################################################################################################################"
   ]
  },
  {
   "cell_type": "code",
   "execution_count": 5,
   "metadata": {},
   "outputs": [],
   "source": [
    "#######################################################################################################################"
   ]
  },
  {
   "cell_type": "markdown",
   "metadata": {},
   "source": [
    "# XRT filters"
   ]
  },
  {
   "cell_type": "markdown",
   "metadata": {},
   "source": [
    "### Read in files from IDL file"
   ]
  },
  {
   "cell_type": "code",
   "execution_count": 6,
   "metadata": {},
   "outputs": [],
   "source": [
    "# read in files from IDL file\n",
    "XRT_Al_Mesh = readsav('xrt/supplemental_data/xrt_level1_composite_dn_rate_Al_mesh_20160610054213_20170423060342_1024_2.0.sav')\n",
    "XRT_Al_Poly = readsav('xrt/supplemental_data/xrt_level1_composite_dn_rate_Al_poly_20160610054233_20170423060403_1024_2.0.sav')\n",
    "XRT_Be_Thin = readsav('xrt/supplemental_data/xrt_level1_composite_dn_rate_Be_thin_20160610054253_20170423060433_1024_2.0.sav')"
   ]
  },
  {
   "cell_type": "markdown",
   "metadata": {},
   "source": [
    "### Access the relative data from the .sav file"
   ]
  },
  {
   "cell_type": "code",
   "execution_count": 7,
   "metadata": {},
   "outputs": [
    {
     "name": "stdout",
     "output_type": "stream",
     "text": [
      "527\n"
     ]
    }
   ],
   "source": [
    "# Access the relative data from the .sav file\n",
    "XRT_Al_Mesh_Filter = XRT_Al_Mesh.XRT_COMPOSITE_STRUCTURE_DN_RATE_COMBINE\n",
    "#XRT_Al_Mesh.XRT_COMPOSITE_STRUCTURE_DN_RATE_COMBINE = None\n",
    "# Get number of files for filter\n",
    "N_XRT_Al_Mesh_Filter = XRT_Al_Mesh_Filter.N_PIXELS_TOTAL_POSITIVE_DN_RATE.size\n",
    "# check number of XRT filter files\n",
    "print(N_XRT_Al_Mesh_Filter)"
   ]
  },
  {
   "cell_type": "code",
   "execution_count": 8,
   "metadata": {},
   "outputs": [
    {
     "name": "stdout",
     "output_type": "stream",
     "text": [
      "542\n"
     ]
    }
   ],
   "source": [
    "XRT_Al_Poly_Filter = XRT_Al_Poly.XRT_COMPOSITE_STRUCTURE_DN_RATE_COMBINE\n",
    "#XRT_Al_Poly.XRT_COMPOSITE_STRUCTURE_DN_RATE_COMBINE = None\n",
    "# Get number of files for filter\n",
    "N_XRT_Al_Poly_Filter = XRT_Al_Poly_Filter.N_PIXELS_TOTAL_POSITIVE_DN_RATE.size\n",
    "# check number of XRT filter files\n",
    "print(N_XRT_Al_Poly_Filter)"
   ]
  },
  {
   "cell_type": "code",
   "execution_count": 9,
   "metadata": {},
   "outputs": [
    {
     "name": "stdout",
     "output_type": "stream",
     "text": [
      "574\n"
     ]
    }
   ],
   "source": [
    "XRT_Be_Thin_Filter = XRT_Be_Thin.XRT_COMPOSITE_STRUCTURE_DN_RATE_COMBINE\n",
    "#XRT_Be_Thin.XRT_COMPOSITE_STRUCTURE_DN_RATE_COMBINE = None\n",
    "# Get number of files for filter\n",
    "N_XRT_Be_Thin_Filter = XRT_Be_Thin_Filter.N_PIXELS_TOTAL_POSITIVE_DN_RATE.size\n",
    "# check number of XRT filter files\n",
    "print(N_XRT_Be_Thin_Filter)"
   ]
  },
  {
   "cell_type": "markdown",
   "metadata": {},
   "source": [
    "### XRT scaling factors - used to determine new interpolated Y-values"
   ]
  },
  {
   "cell_type": "code",
   "execution_count": 10,
   "metadata": {},
   "outputs": [],
   "source": [
    "# XRT scaling factors - used to determine new interpolated Y-values\n",
    "XRT_scale_factor = 1.0e-4\n",
    "convert_arcseconds_to_radians = 4.84814e-6"
   ]
  },
  {
   "cell_type": "markdown",
   "metadata": {},
   "source": [
    "## XRT_Be_Thin"
   ]
  },
  {
   "cell_type": "markdown",
   "metadata": {},
   "source": [
    "### Be_Thin extract Obs Dates and Format to Year-Month-Day for Plots"
   ]
  },
  {
   "cell_type": "code",
   "execution_count": 11,
   "metadata": {},
   "outputs": [],
   "source": [
    "# Be_Thin extract Obs Dates and Format to Year-Month-Day for Plots\n",
    "Be_Thin_timerange = []\n",
    "for t in range(N_XRT_Be_Thin_Filter):\n",
    "    Be_Thin_timerange.append(XRT_Be_Thin_Filter[t]['INDEX_NORM']['DATE_OBS'][0].decode(\"utf-8\"))\n",
    "\n",
    "Be_Thin_daterange = []   \n",
    "for t in range(N_XRT_Be_Thin_Filter):\n",
    "    Be_Thin_datesubstring = Be_Thin_timerange[t][0:10]\n",
    "    Be_Thin_datetimes = [datetime.strptime(Be_Thin_datesubstring, \"%Y-%m-%d\")]\n",
    "    Be_Thin_daterange.append(Be_Thin_datetimes)"
   ]
  },
  {
   "cell_type": "markdown",
   "metadata": {},
   "source": [
    "### Convert XRT_Be_Thin obs dates into JD for all data interpolation"
   ]
  },
  {
   "cell_type": "code",
   "execution_count": 12,
   "metadata": {},
   "outputs": [],
   "source": [
    "# Convert XRT_Be_Thin obs dates into JD for all data interpolation\n",
    "Be_Thin_date = Time(Be_Thin_timerange, format='isot', scale='utc')\n",
    "\n",
    "XRT_Be_Thin_dateJD = (Be_Thin_date).jd   # Converts dates into Julian Day\n",
    "#print(XRT_Be_Thin_dateJD)\n",
    "\n",
    "# New formated JD dates \n",
    "Be_Thin_newYvals = (XRT_scale_factor*(XRT_Be_Thin_Filter.TOTAL_POSITIVE_DN_RATE/(XRT_Be_Thin_Filter.FOV_ARCSECONDS*(convert_arcseconds_to_radians*convert_arcseconds_to_radians))))"
   ]
  },
  {
   "cell_type": "markdown",
   "metadata": {},
   "source": [
    "### Normalize"
   ]
  },
  {
   "cell_type": "code",
   "execution_count": 13,
   "metadata": {},
   "outputs": [],
   "source": [
    "# Normalize XRT_Be_Thin values\n",
    "# Method 1:\n",
    "data_frame = pd.DataFrame(Be_Thin_newYvals)\n",
    "min_max_scaler = preprocessing.MinMaxScaler()\n",
    "np_scaled = min_max_scaler.fit_transform(data_frame)\n",
    "data_frame_normalized = pd.DataFrame(np_scaled)\n",
    "XRT_Be_Thin_normalized = data_frame_normalized"
   ]
  },
  {
   "cell_type": "markdown",
   "metadata": {},
   "source": [
    "## XRT_Al_Mesh"
   ]
  },
  {
   "cell_type": "markdown",
   "metadata": {},
   "source": [
    "### Al_Mesh extract Obs Dates and Format to Year-Month-Day"
   ]
  },
  {
   "cell_type": "code",
   "execution_count": 14,
   "metadata": {},
   "outputs": [],
   "source": [
    "# Al_Mesh extract Obs Dates and Format to Year-Month-Day\n",
    "Al_Mesh_timerange = []\n",
    "for t in range(N_XRT_Al_Mesh_Filter):\n",
    "    Al_Mesh_timerange.append(XRT_Al_Mesh_Filter[t]['INDEX_NORM']['DATE_OBS'][0].decode(\"utf-8\"))\n",
    "\n",
    "Al_Mesh_daterange = []   \n",
    "for t in range(N_XRT_Al_Mesh_Filter):\n",
    "    Al_Mesh_datesubstring = Al_Mesh_timerange[t][0:10]\n",
    "    Al_Mesh_datetimes = [datetime.strptime(Al_Mesh_datesubstring, \"%Y-%m-%d\")]\n",
    "    Al_Mesh_daterange.append(Al_Mesh_datetimes)"
   ]
  },
  {
   "cell_type": "markdown",
   "metadata": {},
   "source": [
    "### Convert XRT_Al_Mesh obs dates into JD for all data interpolation"
   ]
  },
  {
   "cell_type": "code",
   "execution_count": 15,
   "metadata": {},
   "outputs": [],
   "source": [
    "Al_Mesh_date = Time(Al_Mesh_timerange, format='isot', scale='utc')\n",
    "\n",
    "XRT_Al_Mesh_dateJD = (Al_Mesh_date).jd  # Converts dates into Julian Day\n",
    "#print(XRT_Al_Mesh_dateJD)"
   ]
  },
  {
   "cell_type": "markdown",
   "metadata": {},
   "source": [
    "### Interpolate"
   ]
  },
  {
   "cell_type": "code",
   "execution_count": 16,
   "metadata": {},
   "outputs": [],
   "source": [
    "# Interpolate Al_Mesh data to XRT Be_Thin dates\n",
    "\n",
    "Al_Mesh_Yvals = (XRT_scale_factor*(XRT_Al_Mesh_Filter.TOTAL_POSITIVE_DN_RATE/(XRT_Al_Mesh_Filter.FOV_ARCSECONDS*(convert_arcseconds_to_radians*convert_arcseconds_to_radians))))\n",
    "\n",
    "# Interpolate dates\n",
    "Al_Mesh_newYvals = np.interp(XRT_Be_Thin_dateJD, XRT_Al_Mesh_dateJD, Al_Mesh_Yvals)"
   ]
  },
  {
   "cell_type": "markdown",
   "metadata": {},
   "source": [
    "### Normalize"
   ]
  },
  {
   "cell_type": "code",
   "execution_count": 17,
   "metadata": {},
   "outputs": [],
   "source": [
    "# Normalize XRT_Al_Mesh values\n",
    "# Method 1:\n",
    "data_frame = pd.DataFrame(Al_Mesh_newYvals)\n",
    "min_max_scaler = preprocessing.MinMaxScaler()\n",
    "np_scaled = min_max_scaler.fit_transform(data_frame)\n",
    "data_frame_normalized = pd.DataFrame(np_scaled)\n",
    "XRT_Al_Mesh_normalized = data_frame_normalized"
   ]
  },
  {
   "cell_type": "markdown",
   "metadata": {},
   "source": [
    "## XRT_Al_Poly"
   ]
  },
  {
   "cell_type": "markdown",
   "metadata": {},
   "source": [
    "### Al_Poly extract Obs Dates and Format to Year-Month-Day"
   ]
  },
  {
   "cell_type": "code",
   "execution_count": 18,
   "metadata": {},
   "outputs": [],
   "source": [
    "# Al_Poly extract Obs Dates and Format to Year-Month-Day\n",
    "Al_Poly_timerange = []\n",
    "for t in range(N_XRT_Al_Poly_Filter):\n",
    "    Al_Poly_timerange.append(XRT_Al_Poly_Filter[t]['INDEX_NORM']['DATE_OBS'][0].decode(\"utf-8\"))\n",
    "\n",
    "Al_Poly_daterange = []   \n",
    "for t in range(N_XRT_Al_Poly_Filter):\n",
    "    Al_Poly_datesubstring = Al_Poly_timerange[t][0:10]\n",
    "    Al_Poly_datetimes = [datetime.strptime(Al_Poly_datesubstring, \"%Y-%m-%d\")]\n",
    "    Al_Poly_daterange.append(Al_Poly_datetimes)"
   ]
  },
  {
   "cell_type": "markdown",
   "metadata": {},
   "source": [
    "### Convert XRT_Al_Poly obs dates into JD for data interpolation"
   ]
  },
  {
   "cell_type": "code",
   "execution_count": 19,
   "metadata": {},
   "outputs": [],
   "source": [
    "# Convert XRT_Al_Poly obs dates into JD for data interpolation\n",
    "Al_Poly_date = Time(Al_Poly_timerange, format='isot', scale='utc')\n",
    "\n",
    "XRT_Al_Poly_dateJD = (Al_Poly_date).jd  # Converts dates into Julian Day\n",
    "#print(XRT_Al_Poly_dateJD)"
   ]
  },
  {
   "cell_type": "markdown",
   "metadata": {},
   "source": [
    "### Interpolate"
   ]
  },
  {
   "cell_type": "code",
   "execution_count": 20,
   "metadata": {},
   "outputs": [],
   "source": [
    "# Interpolate Al_Poly data to XRT Be_Thin dates\n",
    "Al_Poly_Yvals = (XRT_scale_factor*(XRT_Al_Poly_Filter.TOTAL_POSITIVE_DN_RATE/(XRT_Al_Poly_Filter.FOV_ARCSECONDS*(convert_arcseconds_to_radians*convert_arcseconds_to_radians))))\n",
    "\n",
    "# Interpolate dates\n",
    "Al_Poly_newYvals = np.interp(XRT_Be_Thin_dateJD, XRT_Al_Poly_dateJD, Al_Poly_Yvals)"
   ]
  },
  {
   "cell_type": "markdown",
   "metadata": {},
   "source": [
    "### Normalize"
   ]
  },
  {
   "cell_type": "code",
   "execution_count": 21,
   "metadata": {},
   "outputs": [],
   "source": [
    "# Normalize XRT_Al_Poly values\n",
    "# Method 1:\n",
    "data_frame = pd.DataFrame(Al_Poly_newYvals)\n",
    "min_max_scaler = preprocessing.MinMaxScaler()\n",
    "np_scaled = min_max_scaler.fit_transform(data_frame)\n",
    "data_frame_normalized = pd.DataFrame(np_scaled)\n",
    "XRT_Al_Poly_normalized = data_frame_normalized"
   ]
  },
  {
   "cell_type": "code",
   "execution_count": 22,
   "metadata": {},
   "outputs": [],
   "source": [
    "#######################################################################################################################"
   ]
  },
  {
   "cell_type": "code",
   "execution_count": 22,
   "metadata": {},
   "outputs": [],
   "source": [
    "#######################################################################################################################"
   ]
  },
  {
   "cell_type": "markdown",
   "metadata": {},
   "source": [
    "# HMI_los (316 and 1000 G) files"
   ]
  },
  {
   "cell_type": "markdown",
   "metadata": {},
   "source": [
    "## HMI_los_316_Gauss"
   ]
  },
  {
   "cell_type": "markdown",
   "metadata": {},
   "source": [
    "### Read in all HMI_los_316_G .sav files"
   ]
  },
  {
   "cell_type": "code",
   "execution_count": 23,
   "metadata": {},
   "outputs": [],
   "source": [
    "# Read in all HMI_los_316_G .sav files\n",
    "HMI_los_316_image_files = []\n",
    "for name in glob.glob('supple_hmi_los/supplemental_data_threshold/image_sup_hmi_Blos_316_*.sav'):\n",
    "    File_Name = readsav(name)\n",
    "    HMI_los_316_image_files.append(File_Name)\n",
    "    #print (name)"
   ]
  },
  {
   "cell_type": "markdown",
   "metadata": {},
   "source": [
    "### Check original number of HMI_los_316_Gauss files"
   ]
  },
  {
   "cell_type": "code",
   "execution_count": 24,
   "metadata": {},
   "outputs": [
    {
     "data": {
      "text/plain": [
       "525"
      ]
     },
     "execution_count": 24,
     "metadata": {},
     "output_type": "execute_result"
    }
   ],
   "source": [
    "# Check original number of HMI_los_316_Gauss files\n",
    "len(HMI_los_316_image_files)"
   ]
  },
  {
   "cell_type": "markdown",
   "metadata": {},
   "source": [
    "### Check files for anomalies"
   ]
  },
  {
   "cell_type": "code",
   "execution_count": 25,
   "metadata": {},
   "outputs": [],
   "source": [
    "######## check files for anomalies in files ######\n",
    "for t in range(len(HMI_los_316_image_files)):\n",
    "    #print('For loop:', t)\n",
    "    HMI_los_316File = HMI_los_316_image_files[t]\n",
    "    HMI_los316_Gauss = HMI_los_316File.sdo_hmi_data_structure_supplement.TOTAL_UNSIGNED_GAUSS_THRESHOLD_VALUE_EDGES_DATA\n",
    "  \n",
    "    #print(HMI_los316_Gauss)"
   ]
  },
  {
   "cell_type": "markdown",
   "metadata": {},
   "source": [
    "### New Number of HMI los_316 image .sav files"
   ]
  },
  {
   "cell_type": "code",
   "execution_count": 26,
   "metadata": {},
   "outputs": [
    {
     "name": "stdout",
     "output_type": "stream",
     "text": [
      "525\n"
     ]
    }
   ],
   "source": [
    "# New Number of HMI los_316 image .sav files\n",
    "N_HMI_los_316_image_files = len(HMI_los_316_image_files)\n",
    "print(N_HMI_los_316_image_files)"
   ]
  },
  {
   "cell_type": "markdown",
   "metadata": {},
   "source": [
    "### HMI los_316: Extract 316 Gauss and Obs Date"
   ]
  },
  {
   "cell_type": "code",
   "execution_count": 27,
   "metadata": {},
   "outputs": [],
   "source": [
    "# HMI los_316: Extract 316 Gauss and Obs Date\n",
    "\n",
    "HMI_los_316_dateJDArray = []\n",
    "\n",
    "HMI_los_316_Gauss = []\n",
    "\n",
    "for t in range(N_HMI_los_316_image_files):\n",
    "    HMI_los316File = HMI_los_316_image_files[t]\n",
    "    \n",
    "    # Get JD Obs date\n",
    "    HMIjd = HMI_los316File.sdo_hmi_data_structure_supplement.jd_time_array\n",
    "    HMIdateJDfloat = float(HMIjd)   # Added\n",
    "    HMI_los_316_dateJDArray.append(HMIdateJDfloat)\n",
    "    \n",
    "for t in range(N_HMI_los_316_image_files):\n",
    "    #print('For loop:', t)\n",
    "    HMI_los316File = HMI_los_316_image_files[t]\n",
    "    HMI_los_316Gauss_Val = HMI_los316File.sdo_hmi_data_structure_supplement.TOTAL_UNSIGNED_GAUSS_THRESHOLD_VALUE_EDGES_DATA\n",
    "    HMI_los316_Gaussfloat = float(HMI_los_316Gauss_Val)   # Added for interpolation purposes\n",
    "    HMI_los_316_Gauss.append(HMI_los316_Gaussfloat)\n",
    "#print(HMI_los_316_Gauss)"
   ]
  },
  {
   "cell_type": "markdown",
   "metadata": {},
   "source": [
    "### Interpolate"
   ]
  },
  {
   "cell_type": "code",
   "execution_count": 28,
   "metadata": {},
   "outputs": [],
   "source": [
    "# Interpolate HMI_los_316_gauss data to XRT Be_Thin dates\n",
    "HMI_los_316_arr = np.asarray(HMI_los_316_Gauss) # Convert list into an array\n",
    "HMI_los_316_1d =(HMI_los_316_arr).flatten() # Convert to a one-dimensional array\n",
    "HMI_los_316_Gauss_newYvals = np.interp(XRT_Be_Thin_dateJD, HMI_los_316_dateJDArray, HMI_los_316_1d)\n",
    "#print(HMI_los_316_Gauss_newYvals)"
   ]
  },
  {
   "cell_type": "markdown",
   "metadata": {},
   "source": [
    "### Normalize"
   ]
  },
  {
   "cell_type": "code",
   "execution_count": 29,
   "metadata": {},
   "outputs": [],
   "source": [
    "# Normalize HMI_los_316_gauss\n",
    "# Method 1:\n",
    "data_frame = pd.DataFrame(HMI_los_316_Gauss_newYvals)\n",
    "min_max_scaler = preprocessing.MinMaxScaler()\n",
    "np_scaled = min_max_scaler.fit_transform(data_frame)\n",
    "data_frame_normalized = pd.DataFrame(np_scaled)\n",
    "HMI_los_316_Gauss_normalized = data_frame_normalized"
   ]
  },
  {
   "cell_type": "markdown",
   "metadata": {},
   "source": [
    "## HMI_los_1000_Gauss"
   ]
  },
  {
   "cell_type": "code",
   "execution_count": 30,
   "metadata": {},
   "outputs": [],
   "source": [
    "# Read in all HMI_los_1000_G .sav files\n",
    "HMI_los_1000_image_files = []\n",
    "for name in glob.glob('supple_hmi_los/supplemental_data_threshold/image_sup_hmi_Blos_1000_*.sav'):\n",
    "    File_Name = readsav(name)\n",
    "    HMI_los_1000_image_files.append(File_Name)\n",
    "    #print (name)"
   ]
  },
  {
   "cell_type": "markdown",
   "metadata": {},
   "source": [
    "### Check original number of HMI_los_1000_Gauss files"
   ]
  },
  {
   "cell_type": "code",
   "execution_count": 31,
   "metadata": {},
   "outputs": [
    {
     "data": {
      "text/plain": [
       "525"
      ]
     },
     "execution_count": 31,
     "metadata": {},
     "output_type": "execute_result"
    }
   ],
   "source": [
    "# Check original number of HMI_los_1000_Gauss files\n",
    "len(HMI_los_1000_image_files)"
   ]
  },
  {
   "cell_type": "markdown",
   "metadata": {},
   "source": [
    "### Check files for anomalies"
   ]
  },
  {
   "cell_type": "code",
   "execution_count": 32,
   "metadata": {},
   "outputs": [],
   "source": [
    "######## check files for anomalies in files ######\n",
    "for t in range(len(HMI_los_1000_image_files)):\n",
    "    #print('For loop:', t)\n",
    "    HMI_los_1000File = HMI_los_1000_image_files[t]\n",
    "    HMI_los1000_Gauss = HMI_los_1000File.sdo_hmi_data_structure_supplement.TOTAL_UNSIGNED_GAUSS_THRESHOLD_VALUE_EDGES_DATA\n",
    "  \n",
    "    #print(HMI_los1000_Gauss)"
   ]
  },
  {
   "cell_type": "markdown",
   "metadata": {},
   "source": [
    "### New Number of HMI los_1000 image .sav files"
   ]
  },
  {
   "cell_type": "code",
   "execution_count": 33,
   "metadata": {},
   "outputs": [
    {
     "name": "stdout",
     "output_type": "stream",
     "text": [
      "525\n"
     ]
    }
   ],
   "source": [
    "# New Number of HMI los_1000 image .sav files\n",
    "N_HMI_los_1000_image_files = len(HMI_los_1000_image_files)\n",
    "print(N_HMI_los_1000_image_files)"
   ]
  },
  {
   "cell_type": "markdown",
   "metadata": {},
   "source": [
    "### HMI los_1000: Extract 1000 Gauss and Obs Date"
   ]
  },
  {
   "cell_type": "code",
   "execution_count": 34,
   "metadata": {},
   "outputs": [],
   "source": [
    "# HMI los_1000: Extract 1000 Gauss and Obs Date\n",
    "\n",
    "HMI_los_1000_dateJDArray = []\n",
    "\n",
    "HMI_los_1000_Gauss = []\n",
    "\n",
    "for t in range(N_HMI_los_1000_image_files):\n",
    "    HMI_los1000File = HMI_los_1000_image_files[t]\n",
    "    \n",
    "    # Get JD Obs date\n",
    "    HMIjd = HMI_los1000File.sdo_hmi_data_structure_supplement.jd_time_array\n",
    "    HMIdateJDfloat = float(HMIjd)   # Added\n",
    "    HMI_los_1000_dateJDArray.append(HMIdateJDfloat)\n",
    "    \n",
    "for t in range(N_HMI_los_1000_image_files):\n",
    "    #print('For loop:', t)\n",
    "    HMI_los1000File = HMI_los_1000_image_files[t]\n",
    "    HMI_los_1000Gauss_Val = HMI_los1000File.sdo_hmi_data_structure_supplement.TOTAL_UNSIGNED_GAUSS_THRESHOLD_VALUE_EDGES_DATA\n",
    "    HMI_los1000_Gaussfloat = float(HMI_los_1000Gauss_Val)   # Added for interpolation purposes\n",
    "    HMI_los_1000_Gauss.append(HMI_los1000_Gaussfloat)\n",
    "#print(HMI_los_1000_Gauss)"
   ]
  },
  {
   "cell_type": "markdown",
   "metadata": {},
   "source": [
    "### Interpolate"
   ]
  },
  {
   "cell_type": "code",
   "execution_count": 35,
   "metadata": {},
   "outputs": [],
   "source": [
    "# Interpolate HMI_los_1000_gauss data to XRT Be_Thin dates\n",
    "HMI_los_1000_arr = np.asarray(HMI_los_1000_Gauss)\n",
    "HMI_los_1000_1d =(HMI_los_1000_arr).flatten()\n",
    "HMI_los_1000_Gauss_newYvals = np.interp(XRT_Be_Thin_dateJD, HMI_los_1000_dateJDArray, HMI_los_1000_1d)\n",
    "#print(HMI_los_1000_Gauss_newYvals)"
   ]
  },
  {
   "cell_type": "markdown",
   "metadata": {},
   "source": [
    "### Normalize"
   ]
  },
  {
   "cell_type": "code",
   "execution_count": 36,
   "metadata": {},
   "outputs": [],
   "source": [
    "# Normalize HMI_los_1000_gauss\n",
    "# Method 1:\n",
    "data_frame = pd.DataFrame(HMI_los_1000_Gauss_newYvals)\n",
    "min_max_scaler = preprocessing.MinMaxScaler()\n",
    "np_scaled = min_max_scaler.fit_transform(data_frame)\n",
    "data_frame_normalized = pd.DataFrame(np_scaled)\n",
    "HMI_los_1000_Gauss_normalized = data_frame_normalized"
   ]
  },
  {
   "cell_type": "code",
   "execution_count": 37,
   "metadata": {},
   "outputs": [],
   "source": [
    "#######################################################################################################################"
   ]
  },
  {
   "cell_type": "code",
   "execution_count": 38,
   "metadata": {},
   "outputs": [],
   "source": [
    "#######################################################################################################################"
   ]
  },
  {
   "cell_type": "markdown",
   "metadata": {},
   "source": [
    "# SCATTER PLOTS - HMI_los 316, 1000 G and XRT Filters"
   ]
  },
  {
   "cell_type": "markdown",
   "metadata": {},
   "source": [
    "## Plot HMI_los_316_Gauss vs XRT filters"
   ]
  },
  {
   "cell_type": "code",
   "execution_count": 1,
   "metadata": {},
   "outputs": [
    {
     "ename": "NameError",
     "evalue": "name 'plt' is not defined",
     "output_type": "error",
     "traceback": [
      "\u001b[0;31m---------------------------------------------------------------------------\u001b[0m",
      "\u001b[0;31mNameError\u001b[0m                                 Traceback (most recent call last)",
      "\u001b[0;32m<ipython-input-1-ff10fe1ab7fa>\u001b[0m in \u001b[0;36m<module>\u001b[0;34m()\u001b[0m\n\u001b[1;32m      1\u001b[0m \u001b[0;31m# Set figure\u001b[0m\u001b[0;34m\u001b[0m\u001b[0;34m\u001b[0m\u001b[0m\n\u001b[0;32m----> 2\u001b[0;31m \u001b[0mfig\u001b[0m\u001b[0;34m,\u001b[0m \u001b[0max1\u001b[0m \u001b[0;34m=\u001b[0m \u001b[0mplt\u001b[0m\u001b[0;34m.\u001b[0m\u001b[0msubplots\u001b[0m\u001b[0;34m(\u001b[0m\u001b[0;36m1\u001b[0m\u001b[0;34m,\u001b[0m \u001b[0mfigsize\u001b[0m\u001b[0;34m=\u001b[0m\u001b[0;34m(\u001b[0m\u001b[0;36m15\u001b[0m\u001b[0;34m,\u001b[0m\u001b[0;36m10\u001b[0m\u001b[0;34m)\u001b[0m\u001b[0;34m)\u001b[0m  \u001b[0;31m# Comment out this line if you want to hide plot\u001b[0m\u001b[0;34m\u001b[0m\u001b[0m\n\u001b[0m\u001b[1;32m      3\u001b[0m \u001b[0;34m\u001b[0m\u001b[0m\n\u001b[1;32m      4\u001b[0m \u001b[0;31m# XRT filters\u001b[0m\u001b[0;34m\u001b[0m\u001b[0;34m\u001b[0m\u001b[0m\n\u001b[1;32m      5\u001b[0m \u001b[0mlns1\u001b[0m \u001b[0;34m=\u001b[0m \u001b[0max1\u001b[0m\u001b[0;34m.\u001b[0m\u001b[0mplot\u001b[0m\u001b[0;34m(\u001b[0m\u001b[0mHMI_los_316_Gauss_newYvals\u001b[0m\u001b[0;34m,\u001b[0m \u001b[0mAl_Mesh_newYvals\u001b[0m\u001b[0;34m,\u001b[0m \u001b[0;34m'r8'\u001b[0m\u001b[0;34m,\u001b[0m \u001b[0mmarkersize\u001b[0m \u001b[0;34m=\u001b[0m \u001b[0;36m5\u001b[0m\u001b[0;34m,\u001b[0m \u001b[0mlabel\u001b[0m \u001b[0;34m=\u001b[0m \u001b[0;34m'Al_Mesh'\u001b[0m\u001b[0;34m)\u001b[0m\u001b[0;34m\u001b[0m\u001b[0m\n",
      "\u001b[0;31mNameError\u001b[0m: name 'plt' is not defined"
     ]
    }
   ],
   "source": [
    "# Set figure\n",
    "fig, ax1 = plt.subplots(1, figsize=(15,10))  # Comment out this line if you want to hide plot\n",
    "\n",
    "# XRT filters\n",
    "lns1 = ax1.plot(HMI_los_316_Gauss_newYvals, Al_Mesh_newYvals, 'r8', markersize = 5, label = 'Al_Mesh')\n",
    "lns2 = ax1.plot(HMI_los_316_Gauss_newYvals, Al_Poly_newYvals, 'b.', markersize = 5, label = 'Al_Poly')\n",
    "lns3 = ax1.plot(HMI_los_316_Gauss_newYvals, Be_Thin_newYvals, 'g*', markersize = 5, label = 'Be_Thin')\n",
    "\n",
    "# legend\n",
    "lns = lns1+lns2+lns3\n",
    "labs = [l.get_label() for l in lns]\n",
    "leg = ax1.legend(lns, labs, loc=4, markerscale=3, fontsize=16)\n",
    "\n",
    "# Axes formatting\n",
    "ax1.set_xlabel('Gauss', fontsize=20, fontweight='bold')\n",
    "ax1.set_ylabel('DN / sec', fontsize=20, fontweight='bold')\n",
    "ax1.xaxis.set_tick_params(labelsize=18)\n",
    "ax1.set_xscale('log')\n",
    "ax1.yaxis.set_tick_params(labelsize=18)\n",
    "ax1.set_yscale('log')\n",
    "#ax1.set_ylim([2e5, 5e10])\n",
    "\n",
    "plt.suptitle('HMI_los_316_Gauss vs XRT filters', fontsize=24, fontweight='bold')\n",
    "\n",
    "# get the lines and texts inside legend box\n",
    "leg_lines = leg.get_lines()\n",
    "leg_texts = leg.get_texts()\n",
    "# bulk-set the properties of all lines and texts\n",
    "plt.setp(leg_lines, linewidth=6)\n",
    "plt.setp(leg_texts, fontsize='xx-large')\n",
    "#plt.grid(True, linewidth=2, which='major') # sets grid lines\n",
    "\n",
    "plt.show()"
   ]
  },
  {
   "cell_type": "markdown",
   "metadata": {},
   "source": [
    "## Plot HMI_los_1000_Gauss vs XRT filters"
   ]
  },
  {
   "cell_type": "code",
   "execution_count": 46,
   "metadata": {},
   "outputs": [
    {
     "data": {
      "text/plain": [
       "<Figure size 432x288 with 0 Axes>"
      ]
     },
     "metadata": {},
     "output_type": "display_data"
    }
   ],
   "source": [
    "# Set figure\n",
    "#fig, ax1 = plt.subplots(1, figsize=(15,10)) # Comment out this line if you want to hide plot\n",
    "\n",
    "# XRT filters\n",
    "lns1 = ax1.plot(HMI_los_1000_Gauss_newYvals, Al_Mesh_newYvals, 'r8', markersize = 5, label = 'Al_Mesh')\n",
    "lns2 = ax1.plot(HMI_los_1000_Gauss_newYvals, Al_Poly_newYvals, 'b.', markersize = 5, label = 'Al_Poly')\n",
    "lns3 = ax1.plot(HMI_los_1000_Gauss_newYvals, Be_Thin_newYvals, 'g*', markersize = 5, label = 'Be_Thin')\n",
    "\n",
    "# legend\n",
    "lns = lns1+lns2+lns3\n",
    "labs = [l.get_label() for l in lns]\n",
    "leg = ax1.legend(lns, labs, loc=0, markerscale=3, fontsize=16)\n",
    "\n",
    "# Axes formatting\n",
    "ax1.set_xlabel('Gauss', fontsize=20, fontweight='bold')\n",
    "ax1.set_ylabel('DN / sec', fontsize=20, fontweight='bold')\n",
    "ax1.xaxis.set_tick_params(labelsize=18)\n",
    "ax1.set_xscale('log')\n",
    "ax1.yaxis.set_tick_params(labelsize=18)\n",
    "ax1.set_yscale('log')\n",
    "#ax1.set_ylim([0, 4.5e8])\n",
    "\n",
    "plt.suptitle('HMI_los_1000_Gauss vs XRT filters', fontsize=24, fontweight='bold')\n",
    "\n",
    "# get the lines and texts inside legend box\n",
    "leg_lines = leg.get_lines()\n",
    "leg_texts = leg.get_texts()\n",
    "# bulk-set the properties of all lines and texts\n",
    "plt.setp(leg_lines, linewidth=6)\n",
    "plt.setp(leg_texts, fontsize='xx-large')\n",
    "#plt.grid(True, linewidth=2, which='major') # sets grid lines\n",
    "\n",
    "plt.show()"
   ]
  },
  {
   "cell_type": "code",
   "execution_count": 47,
   "metadata": {},
   "outputs": [],
   "source": [
    "#######################################################################################################################"
   ]
  },
  {
   "cell_type": "code",
   "execution_count": 48,
   "metadata": {},
   "outputs": [],
   "source": [
    "#######################################################################################################################"
   ]
  },
  {
   "cell_type": "markdown",
   "metadata": {},
   "source": [
    "# HMI_Total_B (316 and 1000 G) files"
   ]
  },
  {
   "cell_type": "markdown",
   "metadata": {},
   "source": [
    "## HMI_Total_B_316_Gauss"
   ]
  },
  {
   "cell_type": "markdown",
   "metadata": {},
   "source": [
    "### Read in all HMI_Total_B_316_G .sav files"
   ]
  },
  {
   "cell_type": "code",
   "execution_count": 23,
   "metadata": {},
   "outputs": [],
   "source": [
    "# Read in all HMI_Total_B_316_G .sav files\n",
    "HMI_totalB_316_image_files = []\n",
    "for name in glob.glob('hmi_suppl_total_B/supplemental_data_threshold/image_sup_hmi.B_720s_field_316_*.sav'):\n",
    "    File_Name = readsav(name)\n",
    "    HMI_totalB_316_image_files.append(File_Name)\n",
    "    #print (name)"
   ]
  },
  {
   "cell_type": "markdown",
   "metadata": {},
   "source": [
    "### Check original number of HMI_Total_B_316_Gauss files"
   ]
  },
  {
   "cell_type": "code",
   "execution_count": 24,
   "metadata": {},
   "outputs": [
    {
     "data": {
      "text/plain": [
       "477"
      ]
     },
     "execution_count": 24,
     "metadata": {},
     "output_type": "execute_result"
    }
   ],
   "source": [
    "# Check original number of HMI_Total_B_316_Gauss files\n",
    "len(HMI_totalB_316_image_files)"
   ]
  },
  {
   "cell_type": "markdown",
   "metadata": {},
   "source": [
    "### Check files for anomalies"
   ]
  },
  {
   "cell_type": "code",
   "execution_count": 25,
   "metadata": {},
   "outputs": [],
   "source": [
    "######## check files for anomalies in files ######\n",
    "for t in range(len(HMI_totalB_316_image_files)):\n",
    "    #print('For loop:', t)\n",
    "    HMI_316File = HMI_totalB_316_image_files[t]\n",
    "    HMI_316_Gauss = HMI_316File.sdo_hmi_data_structure_supplement.b_total[0].total_gauss_threshold_value_edges_out_data_field\n",
    "  \n",
    "    #print(HMI_316_Gauss)"
   ]
  },
  {
   "cell_type": "markdown",
   "metadata": {},
   "source": [
    "### New Number of HMI totalB_316 image .sav files"
   ]
  },
  {
   "cell_type": "code",
   "execution_count": 26,
   "metadata": {},
   "outputs": [
    {
     "name": "stdout",
     "output_type": "stream",
     "text": [
      "477\n"
     ]
    }
   ],
   "source": [
    "# New Number of HMI totalB_316 image .sav files\n",
    "N_HMI_totalB_316_image_files = len(HMI_totalB_316_image_files)\n",
    "print(N_HMI_totalB_316_image_files)"
   ]
  },
  {
   "cell_type": "markdown",
   "metadata": {},
   "source": [
    "### HMI totalB_316: Extract 316 Gauss and Obs Date"
   ]
  },
  {
   "cell_type": "code",
   "execution_count": 27,
   "metadata": {},
   "outputs": [],
   "source": [
    "# HMI totalB_316: Extract 316 Gauss and Obs Date\n",
    "\n",
    "HMI_316_dateJDArray = []\n",
    "\n",
    "HMI_totalB_316_Gauss = []\n",
    "\n",
    "for t in range(N_HMI_totalB_316_image_files):\n",
    "    HMI_316File = HMI_totalB_316_image_files[t]\n",
    "    \n",
    "    # Get JD Obs date\n",
    "    HMIjd = HMI_316File.sdo_hmi_data_structure_supplement.b_total[0].jd_time_array\n",
    "    HMIdateJDfloat = float(HMIjd)   # Added\n",
    "    HMI_316_dateJDArray.append(HMIdateJDfloat)\n",
    "HMI_316_dateJDArray.reverse()  # Reverse order of date to increase sequentially\n",
    "    \n",
    "for t in range(N_HMI_totalB_316_image_files):\n",
    "    #print('For loop:', t)\n",
    "    HMI_316File = HMI_totalB_316_image_files[t]\n",
    "    HMI_totB_316_Gauss_Val = HMI_316File.sdo_hmi_data_structure_supplement.b_total[0].total_gauss_threshold_value_edges_out_data_field\n",
    "    HMI316_Gaussfloat = float(HMI_totB_316_Gauss_Val)   # Added for interpolation purposes\n",
    "    HMI_totalB_316_Gauss.append(HMI316_Gaussfloat)\n",
    "#print(HMI_totalB_316_Gauss)"
   ]
  },
  {
   "cell_type": "markdown",
   "metadata": {},
   "source": [
    "### Interpolate"
   ]
  },
  {
   "cell_type": "code",
   "execution_count": 28,
   "metadata": {},
   "outputs": [],
   "source": [
    "# Interpolate HMI_totalB_316_gauss data to XRT Be_Thin dates\n",
    "HMI316_arr = np.asarray(HMI_totalB_316_Gauss)\n",
    "HMI316_1d =(HMI316_arr).flatten()\n",
    "HMI_totB_316_Gauss_newYvals = np.interp(XRT_Be_Thin_dateJD, HMI_316_dateJDArray, HMI316_1d)\n",
    "#print(HMI_totB_316_Gauss_newYvals)"
   ]
  },
  {
   "cell_type": "markdown",
   "metadata": {},
   "source": [
    "### Normalize"
   ]
  },
  {
   "cell_type": "code",
   "execution_count": 29,
   "metadata": {},
   "outputs": [],
   "source": [
    "# Normalize HMI_totalB_316_gauss\n",
    "# Method 1:\n",
    "data_frame = pd.DataFrame(HMI_totB_316_Gauss_newYvals)\n",
    "min_max_scaler = preprocessing.MinMaxScaler()\n",
    "np_scaled = min_max_scaler.fit_transform(data_frame)\n",
    "data_frame_normalized = pd.DataFrame(np_scaled)\n",
    "HMI_totalB_316_Gauss_normalized = data_frame_normalized"
   ]
  },
  {
   "cell_type": "markdown",
   "metadata": {},
   "source": [
    "## HMI_Total_B_1000_Gauss"
   ]
  },
  {
   "cell_type": "markdown",
   "metadata": {},
   "source": [
    "### Read in all HMI_Total_B_1000_G .sav files"
   ]
  },
  {
   "cell_type": "code",
   "execution_count": 56,
   "metadata": {},
   "outputs": [],
   "source": [
    "# Read in all HMI_Total_B_1000_G .sav files\n",
    "HMI_totalB_1000_image_files = []\n",
    "for name in glob.glob('hmi_suppl_total_B/supplemental_data_threshold/image_sup_hmi.B_720s_field_1000_*.sav'):\n",
    "    File_Name = readsav(name)\n",
    "    HMI_totalB_1000_image_files.append(File_Name)\n",
    "    #print (name)"
   ]
  },
  {
   "cell_type": "markdown",
   "metadata": {},
   "source": [
    "### Check original number of Total_B_1000_Gauss files"
   ]
  },
  {
   "cell_type": "code",
   "execution_count": 57,
   "metadata": {
    "scrolled": true
   },
   "outputs": [
    {
     "data": {
      "text/plain": [
       "477"
      ]
     },
     "execution_count": 57,
     "metadata": {},
     "output_type": "execute_result"
    }
   ],
   "source": [
    "# Check original number of Total_B_1000_Gauss files\n",
    "len(HMI_totalB_1000_image_files)"
   ]
  },
  {
   "cell_type": "markdown",
   "metadata": {},
   "source": [
    "### Check files for anomalies"
   ]
  },
  {
   "cell_type": "code",
   "execution_count": 58,
   "metadata": {},
   "outputs": [],
   "source": [
    "######## check files for anomalies in files ######\n",
    "for t in range(len(HMI_totalB_1000_image_files)):\n",
    "    #print('For loop:', t)\n",
    "    HMI_1000File = HMI_totalB_1000_image_files[t]\n",
    "    HMI_1000_Gauss = HMI_1000File.sdo_hmi_data_structure_supplement.b_total[0].total_gauss_threshold_value_edges_out_data_field\n",
    "  \n",
    "    #print(HMI_1000_Gauss)"
   ]
  },
  {
   "cell_type": "markdown",
   "metadata": {},
   "source": [
    "### New Number of HMI totalB_1000 image .sav files"
   ]
  },
  {
   "cell_type": "code",
   "execution_count": 59,
   "metadata": {},
   "outputs": [
    {
     "name": "stdout",
     "output_type": "stream",
     "text": [
      "477\n"
     ]
    }
   ],
   "source": [
    "# New Number of HMI totalB_1000 image .sav files\n",
    "N_HMI_totalB_1000_image_files = len(HMI_totalB_1000_image_files)\n",
    "print(N_HMI_totalB_1000_image_files)"
   ]
  },
  {
   "cell_type": "markdown",
   "metadata": {},
   "source": [
    "### HMI totalB_1000: Extract 1000 Gauss and Obs Date"
   ]
  },
  {
   "cell_type": "code",
   "execution_count": 60,
   "metadata": {},
   "outputs": [],
   "source": [
    "# HMI totalB_1000: Extract 1000 Gauss and Obs Date\n",
    "\n",
    "HMI_1000_dateJDArray = []\n",
    "\n",
    "HMI_totalB_1000_Gauss = []\n",
    "\n",
    "for t in range(len(HMI_totalB_1000_image_files)):\n",
    "    HMI_1000File = HMI_totalB_1000_image_files[t]\n",
    "    \n",
    "    # Get JD Obs date\n",
    "    HMIjd = HMI_1000File.sdo_hmi_data_structure_supplement.b_total[0].jd_time_array\n",
    "    HMIdateJDfloat = float(HMIjd)   # Added\n",
    "    HMI_1000_dateJDArray.append(HMIdateJDfloat)\n",
    "HMI_1000_dateJDArray.reverse()  # Reverse order of date to increase sequentially\n",
    "    \n",
    "for t in range(len(HMI_totalB_1000_image_files)):\n",
    "    #print('For loop:', t)\n",
    "    HMI_1000File = HMI_totalB_1000_image_files[t]\n",
    "    HMI_totB_1000_Gauss_Val = HMI_1000File.sdo_hmi_data_structure_supplement.b_total[0].total_gauss_threshold_value_edges_out_data_field\n",
    "    HMI1000_Gaussfloat = float(HMI_totB_1000_Gauss_Val)   # Added for interpolation purposes\n",
    "    HMI_totalB_1000_Gauss.append(HMI1000_Gaussfloat)\n",
    "#print(HMI_1000_dateJDArray)"
   ]
  },
  {
   "cell_type": "markdown",
   "metadata": {},
   "source": [
    "### Interpolate"
   ]
  },
  {
   "cell_type": "code",
   "execution_count": 61,
   "metadata": {},
   "outputs": [],
   "source": [
    "# Interpolate HMI_totalB_1000_gauss data to XRT Be_Thin dates\n",
    "HMI1000_arr = np.asarray(HMI_totalB_1000_Gauss)\n",
    "HMI1000_1d =(HMI1000_arr).flatten()\n",
    "HMI_totB_1000_Gauss_newYvals = np.interp(XRT_Be_Thin_dateJD, HMI_1000_dateJDArray, HMI1000_1d)\n",
    "#print(HMI_totB_1000_Gauss_newYvals)"
   ]
  },
  {
   "cell_type": "markdown",
   "metadata": {},
   "source": [
    "### Normalize"
   ]
  },
  {
   "cell_type": "code",
   "execution_count": 62,
   "metadata": {},
   "outputs": [],
   "source": [
    "# Normalize HMI_totalB_1000_gauss\n",
    "# Method 1:\n",
    "data_frame = pd.DataFrame(HMI_totB_1000_Gauss_newYvals)\n",
    "min_max_scaler = preprocessing.MinMaxScaler()\n",
    "np_scaled = min_max_scaler.fit_transform(data_frame)\n",
    "data_frame_normalized = pd.DataFrame(np_scaled)\n",
    "HMI_totalB_1000_Gauss_normalized = data_frame_normalized"
   ]
  },
  {
   "cell_type": "code",
   "execution_count": 63,
   "metadata": {},
   "outputs": [],
   "source": [
    "#######################################################################################################################"
   ]
  },
  {
   "cell_type": "code",
   "execution_count": 64,
   "metadata": {},
   "outputs": [],
   "source": [
    "#######################################################################################################################"
   ]
  },
  {
   "cell_type": "markdown",
   "metadata": {},
   "source": [
    "# SCATTER PLOTS - HMI_total_B 316, 100 G and XRT Filters"
   ]
  },
  {
   "cell_type": "markdown",
   "metadata": {},
   "source": [
    "## Plot HMI_totalB_316_Gauss vs XRT filters"
   ]
  },
  {
   "cell_type": "code",
   "execution_count": 30,
   "metadata": {
    "scrolled": false
   },
   "outputs": [
    {
     "data": {
      "image/png": "[encoded data removed]",
      "text/plain": [
       "<Figure size 1080x720 with 1 Axes>"
      ]
     },
     "metadata": {},
     "output_type": "display_data"
    }
   ],
   "source": [
    "# Set figure\n",
    "fig, ax1 = plt.subplots(1, figsize=(15,10)) # Comment out this line if you want to hide plot\n",
    "\n",
    "# XRT filters\n",
    "lns1 = ax1.plot(HMI_totB_316_Gauss_newYvals, Al_Mesh_newYvals, 'r8', markersize = 5, label = 'Al_Mesh')\n",
    "lns2 = ax1.plot(HMI_totB_316_Gauss_newYvals, Al_Poly_newYvals, 'b.', markersize = 5, label = 'Al_Poly')\n",
    "lns3 = ax1.plot(HMI_totB_316_Gauss_newYvals, Be_Thin_newYvals, 'g*', markersize = 5, label = 'Be_Thin')\n",
    "\n",
    "# legend\n",
    "lns = lns1+lns2+lns3\n",
    "labs = [l.get_label() for l in lns]\n",
    "leg = ax1.legend(lns, labs, loc=0, markerscale=3, fontsize=16)\n",
    "\n",
    "# Axes formatting\n",
    "ax1.set_xlabel('Gauss', fontsize=20, fontweight='bold')\n",
    "ax1.set_ylabel('DN / sec', fontsize=20, fontweight='bold')\n",
    "ax1.xaxis.set_tick_params(labelsize=18)\n",
    "ax1.set_xscale('log')\n",
    "ax1.set_xlim([1e6, 1e10])\n",
    "ax1.yaxis.set_tick_params(labelsize=18)\n",
    "ax1.set_yscale('log')\n",
    "#ax1.set_ylim([0, 4.5e8])\n",
    "\n",
    "plt.suptitle('HMI_totalB_316_Gauss vs XRT filters', fontsize=24, fontweight='bold')\n",
    "\n",
    "# get the lines and texts inside legend box\n",
    "leg_lines = leg.get_lines()\n",
    "leg_texts = leg.get_texts()\n",
    "# bulk-set the properties of all lines and texts\n",
    "plt.setp(leg_lines, linewidth=6)\n",
    "plt.setp(leg_texts, fontsize='xx-large')\n",
    "#plt.grid(True, linewidth=2, which='major') # sets grid lines\n",
    "\n",
    "plt.show()"
   ]
  },
  {
   "cell_type": "markdown",
   "metadata": {},
   "source": [
    "## Plot HMI_totalB_316_Gauss (NORMALIZED) vs XRT filters"
   ]
  },
  {
   "cell_type": "code",
   "execution_count": 66,
   "metadata": {
    "scrolled": false
   },
   "outputs": [
    {
     "data": {
      "text/plain": [
       "<Figure size 432x288 with 0 Axes>"
      ]
     },
     "metadata": {},
     "output_type": "display_data"
    }
   ],
   "source": [
    "# Set figure\n",
    "#fig, ax1 = plt.subplots(1, figsize=(15,10)) # Comment out this line if you want to hide plot\n",
    "\n",
    "# XRT filters\n",
    "lns1 = ax1.plot(HMI_totalB_316_Gauss_normalized, Al_Mesh_newYvals, 'r8', markersize = 5, label = 'Al_Mesh')\n",
    "lns2 = ax1.plot(HMI_totalB_316_Gauss_normalized, Al_Poly_newYvals, 'b.', markersize = 5, label = 'Al_Poly')\n",
    "lns3 = ax1.plot(HMI_totalB_316_Gauss_normalized, Be_Thin_newYvals, 'g*', markersize = 5, label = 'Be_Thin')\n",
    "\n",
    "# legend\n",
    "lns = lns1+lns2+lns3\n",
    "labs = [l.get_label() for l in lns]\n",
    "leg = ax1.legend(lns, labs, loc=0, markerscale=3, fontsize=16)\n",
    "\n",
    "# Axes formatting\n",
    "ax1.set_xlabel('HMI Normalized', fontsize=20, fontweight='bold')\n",
    "ax1.set_ylabel('DN / sec', fontsize=20, fontweight='bold')\n",
    "ax1.xaxis.set_tick_params(labelsize=18)\n",
    "#ax1.set_xscale('log')\n",
    "ax1.yaxis.set_tick_params(labelsize=18)\n",
    "ax1.set_yscale('log')\n",
    "#ax1.set_ylim([0, 4.5e8])\n",
    "\n",
    "plt.suptitle('HMI_totalB_316_Gauss (NORMALIZED) vs XRT filters', fontsize=24, fontweight='bold')\n",
    "\n",
    "# get the lines and texts inside legend box\n",
    "leg_lines = leg.get_lines()\n",
    "leg_texts = leg.get_texts()\n",
    "# bulk-set the properties of all lines and texts\n",
    "plt.setp(leg_lines, linewidth=6)\n",
    "plt.setp(leg_texts, fontsize='xx-large')\n",
    "#plt.grid(True, linewidth=2, which='major') # sets grid lines\n",
    "\n",
    "plt.show()"
   ]
  },
  {
   "cell_type": "markdown",
   "metadata": {},
   "source": [
    "## Plot HMI_totalB_1000_Gauss vs XRT filters"
   ]
  },
  {
   "cell_type": "code",
   "execution_count": 67,
   "metadata": {
    "scrolled": false
   },
   "outputs": [
    {
     "data": {
      "text/plain": [
       "<Figure size 432x288 with 0 Axes>"
      ]
     },
     "metadata": {},
     "output_type": "display_data"
    }
   ],
   "source": [
    "# Set figure\n",
    "#fig, ax1 = plt.subplots(1, figsize=(15,10)) # Comment out this line if you want to hide plot\n",
    "\n",
    "# XRT filters\n",
    "lns1 = ax1.plot(HMI_totB_1000_Gauss_newYvals, Al_Mesh_newYvals, 'r8', markersize = 5, label = 'Al_Mesh')\n",
    "lns2 = ax1.plot(HMI_totB_1000_Gauss_newYvals, Al_Poly_newYvals, 'b.', markersize = 6, label = 'Al_Poly')\n",
    "lns3 = ax1.plot(HMI_totB_1000_Gauss_newYvals, Be_Thin_newYvals, 'g*', markersize = 6, label = 'Be_Thin')\n",
    "\n",
    "# legend\n",
    "lns = lns1+lns2+lns3\n",
    "labs = [l.get_label() for l in lns]\n",
    "leg = ax1.legend(lns, labs, loc=0, markerscale=3, fontsize=16)\n",
    "\n",
    "# Axes formatting\n",
    "ax1.set_xlabel('Gauss', fontsize=20, fontweight='bold')\n",
    "ax1.set_ylabel('DN / sec', fontsize=20, fontweight='bold')\n",
    "ax1.xaxis.set_tick_params(labelsize=18)\n",
    "ax1.set_xscale('log')\n",
    "ax1.yaxis.set_tick_params(labelsize=18)\n",
    "ax1.set_yscale('log')\n",
    "#ax1.set_ylim([0, 4.5e8])\n",
    "\n",
    "plt.suptitle('HMI_totalB_1000_Gauss vs XRT filters', fontsize=24, fontweight='bold')\n",
    "\n",
    "# get the lines and texts inside legend box\n",
    "leg_lines = leg.get_lines()\n",
    "leg_texts = leg.get_texts()\n",
    "# bulk-set the properties of all lines and texts\n",
    "plt.setp(leg_lines, linewidth=6)\n",
    "plt.setp(leg_texts, fontsize='xx-large')\n",
    "#plt.grid(True, linewidth=2, which='major') # sets grid lines\n",
    "\n",
    "plt.show()"
   ]
  },
  {
   "cell_type": "markdown",
   "metadata": {},
   "source": [
    "## Plot HMI_totalB_1000_Gauss (NORMALIZED) vs XRT filters"
   ]
  },
  {
   "cell_type": "code",
   "execution_count": 68,
   "metadata": {
    "scrolled": false
   },
   "outputs": [
    {
     "data": {
      "text/plain": [
       "<Figure size 432x288 with 0 Axes>"
      ]
     },
     "metadata": {},
     "output_type": "display_data"
    }
   ],
   "source": [
    "# Set figure\n",
    "#fig, ax1 = plt.subplots(1, figsize=(15,10)) # Comment out this line if you want to hide plot\n",
    "\n",
    "# XRT filters\n",
    "lns1 = ax1.plot(HMI_totalB_1000_Gauss_normalized, Al_Mesh_newYvals, 'r8', markersize = 5, label = 'Al_Mesh')\n",
    "lns2 = ax1.plot(HMI_totalB_1000_Gauss_normalized, Al_Poly_newYvals, 'b.', markersize = 6, label = 'Al_Poly')\n",
    "lns3 = ax1.plot(HMI_totalB_1000_Gauss_normalized, Be_Thin_newYvals, 'g*', markersize = 6, label = 'Be_Thin')\n",
    "\n",
    "# legend\n",
    "lns = lns1+lns2+lns3\n",
    "labs = [l.get_label() for l in lns]\n",
    "leg = ax1.legend(lns, labs, loc=0, markerscale=3, fontsize=16)\n",
    "\n",
    "# XRT and AIA axes formatting\n",
    "ax1.set_xlabel('HMI Normalized', fontsize=20, fontweight='bold')\n",
    "ax1.set_ylabel('DN / sec', fontsize=20, fontweight='bold')\n",
    "ax1.xaxis.set_tick_params(labelsize=18)\n",
    "ax1.set_xscale('log')\n",
    "ax1.yaxis.set_tick_params(labelsize=18)\n",
    "ax1.set_yscale('log')\n",
    "#ax1.set_ylim([0, 4.5e8])\n",
    "\n",
    "plt.suptitle('HMI_totalB_1000_Gauss (NORMALIZED) vs XRT filters', fontsize=24, fontweight='bold')\n",
    "\n",
    "# get the lines and texts inside legend box\n",
    "leg_lines = leg.get_lines()\n",
    "leg_texts = leg.get_texts()\n",
    "# bulk-set the properties of all lines and texts\n",
    "plt.setp(leg_lines, linewidth=6)\n",
    "plt.setp(leg_texts, fontsize='xx-large')\n",
    "#plt.grid(True, linewidth=2, which='major') # sets grid lines\n",
    "\n",
    "plt.show()"
   ]
  },
  {
   "cell_type": "code",
   "execution_count": 69,
   "metadata": {},
   "outputs": [],
   "source": [
    "#######################################################################################################################"
   ]
  },
  {
   "cell_type": "code",
   "execution_count": 70,
   "metadata": {},
   "outputs": [],
   "source": [
    "#######################################################################################################################"
   ]
  },
  {
   "cell_type": "markdown",
   "metadata": {},
   "source": [
    "# TIME SERIES PLOTS - HMI_total_B 316, 100 G and XRT Filters"
   ]
  },
  {
   "cell_type": "markdown",
   "metadata": {},
   "source": [
    "## Plot HMI_totalB_316_Gauss and XRT filters"
   ]
  },
  {
   "cell_type": "code",
   "execution_count": 176,
   "metadata": {
    "scrolled": false
   },
   "outputs": [
    {
     "data": {
      "image/png": "[encoded data removed]",
      "text/plain": [
       "<Figure size 1080x720 with 2 Axes>"
      ]
     },
     "metadata": {},
     "output_type": "display_data"
    }
   ],
   "source": [
    "# Set figure\n",
    "fig, ax1 = plt.subplots(1, figsize=(15,10)) # Comment out this line if you want to hide plot\n",
    "\n",
    "# XRT filters\n",
    "lns1 = ax1.plot(Be_Thin_daterange, Al_Mesh_newYvals, 'r-', markersize = 4, label = 'Al_Mesh')\n",
    "lns2 = ax1.plot(Be_Thin_daterange, Al_Poly_newYvals, 'b-', markersize = 4, label = 'Al_Poly')\n",
    "lns3 = ax1.plot(Be_Thin_daterange, Be_Thin_newYvals, 'g-', markersize = 4, label = 'Be_Thin')\n",
    "\n",
    "# HMI_316_Gauss\n",
    "ax2 = ax1.twinx()\n",
    "lns4 = ax2.plot(Be_Thin_daterange, HMI_totB_316_Gauss_newYvals, 'k-', markersize = 3, label = 'HMI_316_Gauss')\n",
    "\n",
    "# legend\n",
    "lns = lns1+lns2+lns3+lns4\n",
    "labs = [l.get_label() for l in lns]\n",
    "leg = ax1.legend(lns, labs, loc=9, fontsize=16)\n",
    "\n",
    "# Format date on x-axis\n",
    "fig.autofmt_xdate()\n",
    "ax1.xaxis_date()\n",
    "ax1.xaxis.set_major_formatter(mdates.DateFormatter(\"%Y-%b-%d\"))\n",
    "\n",
    "# XRT axes formatting\n",
    "ax1.set_xlabel('Time [UTC]', fontsize=20, fontweight='bold')\n",
    "ax1.set_ylabel('DN / sec', fontsize=20, fontweight='bold')\n",
    "ax1.xaxis.set_tick_params(labelsize=18)\n",
    "ax1.yaxis.set_tick_params(labelsize=18)\n",
    "ax1.set_yscale('log')\n",
    "#ax1.set_ylim([1e6, 1e9])\n",
    "\n",
    "# HMI y-axis formatting\n",
    "ax2.set_ylabel('(HMI) Gauss', fontsize=20, fontweight='bold')\n",
    "ax2.yaxis.set_tick_params(labelsize=18)\n",
    "ax2.set_yscale('log')\n",
    "ax2.set_ylim([1e6, 1e9])\n",
    "\n",
    "plt.suptitle('HMI_totalB_316_Gauss and XRT filters', fontsize=24, fontweight='bold')\n",
    "\n",
    "# get the lines and texts inside legend box\n",
    "leg_lines = leg.get_lines()\n",
    "leg_texts = leg.get_texts()\n",
    "# bulk-set the properties of all lines and texts\n",
    "plt.setp(leg_lines, linewidth=6)\n",
    "plt.setp(leg_texts, fontsize='xx-large')\n",
    "\n",
    "plt.show()"
   ]
  },
  {
   "cell_type": "markdown",
   "metadata": {},
   "source": [
    "## Plot HMI_totalB_316_Gauss (NORMALIZED) and XRT filters"
   ]
  },
  {
   "cell_type": "code",
   "execution_count": 75,
   "metadata": {
    "scrolled": false
   },
   "outputs": [
    {
     "data": {
      "text/plain": [
       "<Figure size 432x288 with 0 Axes>"
      ]
     },
     "metadata": {},
     "output_type": "display_data"
    }
   ],
   "source": [
    "# Set figure\n",
    "#fig, ax1 = plt.subplots(1, figsize=(15,10)) # Comment out this line if you want to hide plot\n",
    "\n",
    "# XRT filters\n",
    "lns1 = ax1.plot(Be_Thin_daterange, Al_Mesh_newYvals, 'r-', markersize = 4, label = 'Al_Mesh')\n",
    "lns2 = ax1.plot(Be_Thin_daterange, Al_Poly_newYvals, 'b-', markersize = 4, label = 'Al_Poly')\n",
    "lns3 = ax1.plot(Be_Thin_daterange, Be_Thin_newYvals, 'g-', markersize = 4, label = 'Be_Thin')\n",
    "\n",
    "# HMI_316_Gauss\n",
    "ax2 = ax1.twinx()\n",
    "lns4 = ax2.plot(Be_Thin_daterange, HMI_totalB_316_Gauss_normalized, 'k-', markersize = 3, label = 'HMI_316_Gauss')\n",
    "\n",
    "\n",
    "# legend\n",
    "lns = lns1+lns2+lns3+lns4\n",
    "labs = [l.get_label() for l in lns]\n",
    "leg = ax1.legend(lns, labs, loc=9, fontsize=16)\n",
    "\n",
    "# Format date on x-axis\n",
    "fig.autofmt_xdate()\n",
    "ax1.xaxis_date()\n",
    "ax1.xaxis.set_major_formatter(mdates.DateFormatter(\"%Y-%b-%d\"))\n",
    "\n",
    "# XRT axes formatting\n",
    "ax1.set_xlabel('Time [UTC]', fontsize=20, fontweight='bold')\n",
    "ax1.set_ylabel('DN / sec', fontsize=20, fontweight='bold')\n",
    "ax1.xaxis.set_tick_params(labelsize=18)\n",
    "ax1.yaxis.set_tick_params(labelsize=18)\n",
    "ax1.set_yscale('log')\n",
    "#ax1.set_ylim([1e6, 1e9])\n",
    "\n",
    "# HMI y-axis formatting\n",
    "ax2.set_ylabel('HMI Normalized', fontsize=20, fontweight='bold')\n",
    "ax2.yaxis.set_tick_params(labelsize=18)\n",
    "#ax2.set_yscale('log')\n",
    "\n",
    "plt.suptitle('HMI_totalB_316_Gauss (NORMALIZED) and XRT filters', fontsize=24, fontweight='bold')\n",
    "\n",
    "# get the lines and texts inside legend box\n",
    "leg_lines = leg.get_lines()\n",
    "leg_texts = leg.get_texts()\n",
    "# bulk-set the properties of all lines and texts\n",
    "plt.setp(leg_lines, linewidth=6)\n",
    "plt.setp(leg_texts, fontsize='xx-large')\n",
    "\n",
    "plt.show()"
   ]
  },
  {
   "cell_type": "markdown",
   "metadata": {},
   "source": [
    "## Plot HMI_totalB_1000_Gauss and XRT filters"
   ]
  },
  {
   "cell_type": "code",
   "execution_count": 76,
   "metadata": {
    "scrolled": false
   },
   "outputs": [
    {
     "data": {
      "text/plain": [
       "<Figure size 432x288 with 0 Axes>"
      ]
     },
     "metadata": {},
     "output_type": "display_data"
    }
   ],
   "source": [
    "# Set figure\n",
    "#fig, ax1 = plt.subplots(1, figsize=(15,10)) # Comment out this line if you want to hide plot\n",
    "\n",
    "# XRT filters\n",
    "lns1 = ax1.plot(Be_Thin_daterange, Al_Mesh_newYvals, 'r-', markersize = 4, label = 'Al_Mesh')\n",
    "lns2 = ax1.plot(Be_Thin_daterange, Al_Poly_newYvals, 'b-', markersize = 4, label = 'Al_Poly')\n",
    "lns3 = ax1.plot(Be_Thin_daterange, Be_Thin_newYvals, 'g-', markersize = 4, label = 'Be_Thin')\n",
    "\n",
    "# HMI_316_Gauss\n",
    "ax2 = ax1.twinx()\n",
    "lns4 = ax2.plot(Be_Thin_daterange, HMI_totB_1000_Gauss_newYvals, 'tab:grey', markersize = 3, label = 'HMI_1000_Gauss')\n",
    "#lns5 = ax2.plot(Be_Thin_daterange, HMIlosNeg_newYvals, 'c-X', markersize = 3, label = 'HMI_Neg_los')\n",
    "#lns6 = ax2.plot(Be_Thin_daterange, HMIlosTot_newYvals, 'y-D', markersize = 3, label = 'HMI_Tot_los')\n",
    "\n",
    "# legend\n",
    "lns = lns1+lns2+lns3+lns4\n",
    "labs = [l.get_label() for l in lns]\n",
    "leg = ax1.legend(lns, labs, loc=9, fontsize=16)\n",
    "\n",
    "# Format date on x-axis\n",
    "fig.autofmt_xdate()\n",
    "ax1.xaxis_date()\n",
    "ax1.xaxis.set_major_formatter(mdates.DateFormatter(\"%Y-%b-%d\"))\n",
    "\n",
    "# XRT axes formatting\n",
    "ax1.set_xlabel('Time [UTC]', fontsize=20, fontweight='bold')\n",
    "ax1.set_ylabel('DN / sec', fontsize=20, fontweight='bold')\n",
    "ax1.xaxis.set_tick_params(labelsize=18)\n",
    "ax1.yaxis.set_tick_params(labelsize=18)\n",
    "ax1.set_yscale('log')\n",
    "#ax1.set_ylim([1e6, 1e9])\n",
    "\n",
    "# HMI y-axis formatting\n",
    "ax2.set_ylabel('(HMI) Gauss', fontsize=20, fontweight='bold')\n",
    "ax2.yaxis.set_tick_params(labelsize=18)\n",
    "ax2.set_yscale('log')\n",
    "\n",
    "plt.suptitle('HMI_totalB_1000_Gauss and XRT filters', fontsize=24, fontweight='bold')\n",
    "\n",
    "# get the lines and texts inside legend box\n",
    "leg_lines = leg.get_lines()\n",
    "leg_texts = leg.get_texts()\n",
    "# bulk-set the properties of all lines and texts\n",
    "plt.setp(leg_lines, linewidth=6)\n",
    "plt.setp(leg_texts, fontsize='xx-large')\n",
    "\n",
    "plt.show()"
   ]
  },
  {
   "cell_type": "markdown",
   "metadata": {},
   "source": [
    "## Plot HMI_totalB_1000_Gauss (NORMALIZED) and XRT filters"
   ]
  },
  {
   "cell_type": "code",
   "execution_count": 77,
   "metadata": {
    "scrolled": false
   },
   "outputs": [
    {
     "data": {
      "text/plain": [
       "<Figure size 432x288 with 0 Axes>"
      ]
     },
     "metadata": {},
     "output_type": "display_data"
    }
   ],
   "source": [
    "# Set figure\n",
    "#fig, ax1 = plt.subplots(1, figsize=(15,10)) # Comment out this line if you want to hide plot\n",
    "\n",
    "# XRT filters\n",
    "lns1 = ax1.plot(Be_Thin_daterange, Al_Mesh_newYvals, 'r-', markersize = 4, label = 'Al_Mesh')\n",
    "lns2 = ax1.plot(Be_Thin_daterange, Al_Poly_newYvals, 'b-', markersize = 4, label = 'Al_Poly')\n",
    "lns3 = ax1.plot(Be_Thin_daterange, Be_Thin_newYvals, 'g-', markersize = 4, label = 'Be_Thin')\n",
    "\n",
    "# HMI_316_Gauss\n",
    "ax2 = ax1.twinx()\n",
    "lns4 = ax2.plot(Be_Thin_daterange, HMI_totalB_1000_Gauss_normalized, 'tab:grey', markersize = 3, label = 'HMI_1000_Gauss')\n",
    "\n",
    "# legend\n",
    "lns = lns1+lns2+lns3+lns4\n",
    "labs = [l.get_label() for l in lns]\n",
    "leg = ax1.legend(lns, labs, loc=9, fontsize=16)\n",
    "\n",
    "# Format date on x-axis\n",
    "fig.autofmt_xdate()\n",
    "ax1.xaxis_date()\n",
    "ax1.xaxis.set_major_formatter(mdates.DateFormatter(\"%Y-%b-%d\"))\n",
    "\n",
    "# XRT  axes formatting\n",
    "ax1.set_xlabel('Time [UTC]', fontsize=20, fontweight='bold')\n",
    "ax1.set_ylabel('DN / sec', fontsize=20, fontweight='bold')\n",
    "ax1.xaxis.set_tick_params(labelsize=18)\n",
    "ax1.yaxis.set_tick_params(labelsize=8)\n",
    "ax1.set_yscale('log')\n",
    "#ax1.set_ylim([1e6, 1e9])\n",
    "\n",
    "# HMI y-axis formatting\n",
    "ax2.set_ylabel('HMI Normalized', fontsize=20, fontweight='bold')\n",
    "ax2.yaxis.set_tick_params(labelsize=18)\n",
    "#ax2.set_yscale('log')\n",
    "\n",
    "plt.suptitle('HMI_totalB_1000_Gauss (NORMALIZED) and XRT filters', fontsize=24, fontweight='bold')\n",
    "\n",
    "# get the lines and texts inside legend box\n",
    "leg_lines = leg.get_lines()\n",
    "leg_texts = leg.get_texts()\n",
    "# bulk-set the properties of all lines and texts\n",
    "plt.setp(leg_lines, linewidth=6)\n",
    "plt.setp(leg_texts, fontsize='xx-large')\n",
    "\n",
    "plt.show()"
   ]
  },
  {
   "cell_type": "code",
   "execution_count": 78,
   "metadata": {},
   "outputs": [],
   "source": [
    "#######################################################################################################################"
   ]
  },
  {
   "cell_type": "code",
   "execution_count": 79,
   "metadata": {},
   "outputs": [],
   "source": [
    "#######################################################################################################################"
   ]
  },
  {
   "cell_type": "markdown",
   "metadata": {},
   "source": [
    "# HMI_los files"
   ]
  },
  {
   "cell_type": "markdown",
   "metadata": {},
   "source": [
    "### Read in all HMI (line of sight) .sav files"
   ]
  },
  {
   "cell_type": "code",
   "execution_count": 188,
   "metadata": {},
   "outputs": [],
   "source": [
    "# Read in all HMI (line of sight) .sav files\n",
    "HMI_los_image_files = []\n",
    "for name in glob.glob('hmi_los_data/image_sup_hmi_Blos_*.sav'):\n",
    "    File_Name = readsav(name)\n",
    "    HMI_los_image_files.append(File_Name)\n",
    "    #print (name)"
   ]
  },
  {
   "cell_type": "markdown",
   "metadata": {},
   "source": [
    "### Check original number of HMI_los files"
   ]
  },
  {
   "cell_type": "code",
   "execution_count": 189,
   "metadata": {},
   "outputs": [
    {
     "data": {
      "text/plain": [
       "525"
      ]
     },
     "execution_count": 189,
     "metadata": {},
     "output_type": "execute_result"
    }
   ],
   "source": [
    "# Check original number of HMI_los files\n",
    "len(HMI_los_image_files)"
   ]
  },
  {
   "cell_type": "markdown",
   "metadata": {},
   "source": [
    "# HMI_los_Pos_Gauss"
   ]
  },
  {
   "cell_type": "markdown",
   "metadata": {},
   "source": [
    "### Check files for anomalies - Tot Pos Gauss"
   ]
  },
  {
   "cell_type": "code",
   "execution_count": 190,
   "metadata": {},
   "outputs": [],
   "source": [
    "######## check files for anomalies in files ######\n",
    "for t in range(len(HMI_los_image_files)):\n",
    "    #print('For loop:', t)\n",
    "    HMI_losFile = HMI_los_image_files[t]\n",
    "    HMI_los_TotPosGauss = HMI_losFile.sdo_hmi_data_structure_supplement.total_positive_gauss_data\n",
    "  \n",
    "    #print(HMI_los_TotPosGauss)"
   ]
  },
  {
   "cell_type": "markdown",
   "metadata": {},
   "source": [
    "# Only run This cell ONCE!!!! - Output should be 522"
   ]
  },
  {
   "cell_type": "code",
   "execution_count": 191,
   "metadata": {},
   "outputs": [
    {
     "name": "stdout",
     "output_type": "stream",
     "text": [
      "522\n"
     ]
    }
   ],
   "source": [
    "################## Only run This cell ONCE!!!! - Output should be 522 ################\n",
    "BadIndicies = [35, 42, 74]\n",
    "for Index in sorted(BadIndicies, reverse=True):\n",
    "    del HMI_los_image_files[Index]\n",
    "print(len(HMI_los_image_files))"
   ]
  },
  {
   "cell_type": "markdown",
   "metadata": {},
   "source": [
    "### New Number of HMI los image .sav files"
   ]
  },
  {
   "cell_type": "code",
   "execution_count": 192,
   "metadata": {},
   "outputs": [
    {
     "name": "stdout",
     "output_type": "stream",
     "text": [
      "522\n"
     ]
    }
   ],
   "source": [
    "# New Number of HMI los image .sav files\n",
    "N_HMI_los_image_files = len(HMI_los_image_files)\n",
    "print(N_HMI_los_image_files)"
   ]
  },
  {
   "cell_type": "markdown",
   "metadata": {},
   "source": [
    "# Only run ONE of the following TWO HMI_los Tot Pos Gauss cells!"
   ]
  },
  {
   "cell_type": "markdown",
   "metadata": {},
   "source": [
    "### HMI_los Tot Pos Gauss - WITH OUTLIERS"
   ]
  },
  {
   "cell_type": "code",
   "execution_count": 153,
   "metadata": {},
   "outputs": [],
   "source": [
    "## HMI los: Extract Pos_Data (Gauss) and Obs Date\n",
    "\n",
    "HMIdateJDArray = []\n",
    "HMIdatetimeArray = []\n",
    "\n",
    "HMI_los_Pos_Gauss = []\n",
    "\n",
    "for t in range(N_HMI_los_image_files):\n",
    "    HMI_los_file = HMI_los_image_files[t]\n",
    "    \n",
    "#    # Get JD Obs date\n",
    "    HMIjd = HMI_los_file.SDO_HMI_DATA_STRUCTURE_SUPPLEMENT.JD_TIME_ARRAY\n",
    "    HMIdateJDfloat = float(HMIjd)   # Added\n",
    "    HMIdateJDArray.append(HMIdateJDfloat)\n",
    "    \n",
    "    HMIdateArray = str(HMI_los_file)\n",
    "    HMIdateArray[113:132]\n",
    "    HMI_Date = HMIdateArray[113:132]\n",
    "    HMIdatetime = [datetime.strptime(HMI_Date, \"%Y-%m-%d\"+'T'+\"%H:%M:%S\")]\n",
    "#        #print(HMIdatetime)\n",
    "HMItime = np.asarray(HMIdatetime)\n",
    "HMIdatetimeArray.append(HMItime)\n",
    "    \n",
    "for t in range(N_HMI_los_image_files):\n",
    "    HMI_los_file = HMI_los_image_files[t]  \n",
    "    \n",
    "    HMI_los_TotPosGauss = HMI_los_file.sdo_hmi_data_structure_supplement.total_positive_gauss_data\n",
    "    HMIlosPosfloat = float(HMI_los_TotPosGauss)   # Added for interpolation purposes\n",
    "    HMI_los_Pos_Gauss.append(HMIlosPosfloat)\n",
    "##print(HMI_los_Pos_Gauss)"
   ]
  },
  {
   "cell_type": "markdown",
   "metadata": {},
   "source": [
    "### HMI_los Tot Pos Gauss - EXCLUDING OUTLIERS"
   ]
  },
  {
   "cell_type": "code",
   "execution_count": 86,
   "metadata": {},
   "outputs": [],
   "source": [
    "# HMI los: EXCLUDE OUTLIERS and Extract Pos_Data (Gauss) and Obs Date\n",
    "\n",
    "HMI_los_Pos_Gauss = []\n",
    "\n",
    "for t in range(N_HMI_los_image_files):\n",
    "    HMI_los_file = HMI_los_image_files[t]  \n",
    "    \n",
    "    HMI_los_TotPosGauss = HMI_los_file.sdo_hmi_data_structure_supplement.total_positive_gauss_data\n",
    "    HMIlosPosfloat = float(HMI_los_TotPosGauss)   # Added for interpolation purposes\n",
    "    HMI_los_Pos_Gauss.append(HMIlosPosfloat)\n",
    "#print(HMI_los_Pos_Gauss)\n",
    "#len(HMI_los_Pos_Gauss)\n",
    "\n",
    "#Exclude Outliers > 1e7 (Loop: 68, 226, 352, 365, 503)\n",
    "HMI_Pos_los_modified = []\n",
    "HMIdateJDArray = []\n",
    "HMIdatetimeArray = []\n",
    "\n",
    "for t in range(N_HMI_los_image_files):\n",
    "    if HMI_los_Pos_Gauss[t] < 0.6e8:\n",
    "        HMI_Pos_Include = HMI_los_Pos_Gauss[t]\n",
    "        #print('\\n'+'Loop number:', t)\n",
    "        #print(HMI_Pos_Include)\n",
    "        HMI_Pos_los_modified.append(HMI_Pos_Include)\n",
    "        \n",
    "        # Get JD Obs date\n",
    "        HMI_los_file = HMI_los_image_files[t]\n",
    "        HMIjd = HMI_los_file.SDO_HMI_DATA_STRUCTURE_SUPPLEMENT.JD_TIME_ARRAY\n",
    "        HMIdateJDfloat = float(HMIjd)   # Added\n",
    "        HMIdateJDArray.append(HMIdateJDfloat)\n",
    "    \n",
    "        HMIdateArray = str(HMI_los_file)\n",
    "        HMIdateArray[113:132]\n",
    "        HMI_Date = HMIdateArray[113:132]\n",
    "        HMIdatetime = [datetime.strptime(HMI_Date, \"%Y-%m-%d\"+'T'+\"%H:%M:%S\")]\n",
    "            #print(HMIdatetime)\n",
    "        HMItime = np.asarray(HMIdatetime)\n",
    "        HMIdatetimeArray.append(HMItime)\n",
    "        \n",
    "N_Modified_HMI_Pos_los = len(HMI_Pos_los_modified)\n"
   ]
  },
  {
   "cell_type": "markdown",
   "metadata": {},
   "source": [
    "### Interpolate"
   ]
  },
  {
   "cell_type": "code",
   "execution_count": 87,
   "metadata": {},
   "outputs": [],
   "source": [
    "# Interpolate HMI_los Pos data to XRT Be_Thin dates (ONLY use with HMI_los_Pos_Gauss EXCLUDING OUTLIERS)\n",
    "HMIlosPos_arr = np.asarray(HMI_Pos_los_modified)\n",
    "HMIlosPos_1d =(HMIlosPos_arr).flatten()\n",
    "HMIlosPos_newYvals = np.interp(XRT_Be_Thin_dateJD, HMIdateJDArray, HMIlosPos_1d)\n",
    "#print(HMIlosPos_newYvals)"
   ]
  },
  {
   "cell_type": "markdown",
   "metadata": {},
   "source": [
    "### Normalize"
   ]
  },
  {
   "cell_type": "code",
   "execution_count": 88,
   "metadata": {},
   "outputs": [],
   "source": [
    "# Normalize HMI_Pos_los with Outliers excluded (ONLY use with HMI_los_Pos_Gauss EXCLUDING OUTLIERS)\n",
    "# Method 1:\n",
    "data_frame = pd.DataFrame(HMIlosPos_newYvals)\n",
    "min_max_scaler = preprocessing.MinMaxScaler()\n",
    "np_scaled = min_max_scaler.fit_transform(data_frame)\n",
    "data_frame_normalized = pd.DataFrame(np_scaled)\n",
    "HMI_los_Pos_normalized = data_frame_normalized"
   ]
  },
  {
   "cell_type": "markdown",
   "metadata": {},
   "source": [
    "## HMI_los_Neg_Gauss"
   ]
  },
  {
   "cell_type": "code",
   "execution_count": 89,
   "metadata": {},
   "outputs": [],
   "source": [
    "# HMI los: Extract Neg_Data (Gauss)\n",
    "\n",
    "HMI_los_Neg_Gauss = []\n",
    "HMI_los_min_Neg = []\n",
    "    \n",
    "for t in range(N_HMI_los_image_files):\n",
    "    HMI_los_file = HMI_los_image_files[t]\n",
    "\n",
    "        # HMI los total negative gauss scaled values\n",
    "    HMI_los_TotNegGauss = HMI_los_file.sdo_hmi_data_structure_supplement.total_negative_gauss_data\n",
    "    HMI_los_abs_val_NegGauss = abs(HMI_los_TotNegGauss)\n",
    "    HMIlosNegfloat = float(HMI_los_abs_val_NegGauss)   # Added for interpolation purposes\n",
    "    HMI_los_Neg_Gauss.append(HMIlosNegfloat)\n",
    "#print(HMI_los_Neg_Gauss)"
   ]
  },
  {
   "cell_type": "markdown",
   "metadata": {},
   "source": [
    "### Interpolate"
   ]
  },
  {
   "cell_type": "code",
   "execution_count": 154,
   "metadata": {},
   "outputs": [],
   "source": [
    "# Interpolate HMI_los Neg data to XRT Be_Thin dates (only work with HMI_los_Pos_Gauss WITH OUTLIERS)\n",
    "HMIlosNeg_arr = np.asarray(HMI_los_Neg_Gauss)\n",
    "HMIlosNeg_1d =(HMIlosNeg_arr).flatten()\n",
    "HMIlosNeg_newYvals = np.interp(XRT_Be_Thin_dateJD, HMIdateJDArray, HMIlosNeg_1d)\n",
    "#print(HMIlosNeg_newYvals)"
   ]
  },
  {
   "cell_type": "markdown",
   "metadata": {},
   "source": [
    "### Normalize"
   ]
  },
  {
   "cell_type": "code",
   "execution_count": 155,
   "metadata": {},
   "outputs": [],
   "source": [
    "# Normalize HMI_Neg_los with Outliers excluded\n",
    "# Method 1:\n",
    "data_frame = pd.DataFrame(HMIlosNeg_newYvals)\n",
    "min_max_scaler = preprocessing.MinMaxScaler()\n",
    "np_scaled = min_max_scaler.fit_transform(data_frame)\n",
    "data_frame_normalized = pd.DataFrame(np_scaled)\n",
    "HMI_los_Neg_normalized = data_frame_normalized"
   ]
  },
  {
   "cell_type": "markdown",
   "metadata": {},
   "source": [
    "### Read in # of Pos and Neg Pixels and Determine Ratio"
   ]
  },
  {
   "cell_type": "code",
   "execution_count": 92,
   "metadata": {},
   "outputs": [
    {
     "name": "stdout",
     "output_type": "stream",
     "text": [
      "0.34828545722437926\n"
     ]
    }
   ],
   "source": [
    "######## Read in # of Pos and Neg Pixels and Determine Ratio ######\n",
    "PosPix = []\n",
    "NegPix = []\n",
    "Ratio_Pos2Neg_Pix = []\n",
    "Ratio_Pos_Pix = []\n",
    "Ratio_Neg_Pix = []\n",
    "\n",
    "for t in range(len(HMI_los_image_files)):\n",
    "    #print('For loop:', t)\n",
    "    HMI_losFile = HMI_los_image_files[t]\n",
    "    HMI_los_TotPosPix = HMI_losFile.sdo_hmi_data_structure_supplement.n_pixels_total_positive_gauss_data\n",
    "    HMI_los_TotNegPix = HMI_losFile.sdo_hmi_data_structure_supplement.n_pixels_total_negative_gauss_data\n",
    "    \n",
    "    Tot_Pix_Ratio = HMI_los_TotPosPix/HMI_los_TotNegPix\n",
    "    TotRatioFloat = float(Tot_Pix_Ratio)\n",
    "    Ratio_Pos2Neg_Pix.append(TotRatioFloat)\n",
    "    \n",
    "    PosPix.append(HMI_los_TotPosPix)\n",
    "    NegPix.append(HMI_los_TotNegPix)\n",
    "    \n",
    "    # Get Ratio of Pos_Gauss / N_Pos_Pixels\n",
    "    Pos_Pix_Ratio = (HMI_los_Pos_Gauss[t])/HMI_los_TotPosPix\n",
    "    PosRatioFloat = float(Pos_Pix_Ratio)\n",
    "    Ratio_Pos_Pix.append(PosRatioFloat)\n",
    "    \n",
    "     # Get Ratio of Neg_Gauss / N_Neg_Pixels\n",
    "    Neg_Pix_Ratio = (HMI_los_Neg_Gauss[t])/HMI_los_TotNegPix\n",
    "    NegRatioFloat = float(Neg_Pix_Ratio)\n",
    "    Ratio_Neg_Pix.append(NegRatioFloat)\n",
    "    \n",
    "##Determine Mean of the Ratio of N_Pos_Pixles / N_Neg_Pixles \n",
    "PosPixMean = np.average(PosPix)\n",
    "#print(PosPixMean)\n",
    "NegPixMean = np.average(NegPix)\n",
    "#print(NegPixMean)\n",
    "TotPixMean = np.average(Ratio_Pos2Neg_Pix)\n",
    "print(TotPixMean)"
   ]
  },
  {
   "cell_type": "code",
   "execution_count": 93,
   "metadata": {},
   "outputs": [],
   "source": [
    "#######################################################################################################################"
   ]
  },
  {
   "cell_type": "code",
   "execution_count": 94,
   "metadata": {},
   "outputs": [],
   "source": [
    "#######################################################################################################################"
   ]
  },
  {
   "cell_type": "markdown",
   "metadata": {},
   "source": [
    "# SCATTER PLOTS"
   ]
  },
  {
   "cell_type": "markdown",
   "metadata": {},
   "source": [
    "## Plot Ratio_Pos_Pix vs Ratio_Neg_Pix"
   ]
  },
  {
   "cell_type": "code",
   "execution_count": 195,
   "metadata": {
    "scrolled": false
   },
   "outputs": [
    {
     "data": {
      "text/plain": [
       "<Figure size 432x288 with 0 Axes>"
      ]
     },
     "metadata": {},
     "output_type": "display_data"
    },
    {
     "data": {
      "text/plain": [
       "<Figure size 1080x720 with 0 Axes>"
      ]
     },
     "metadata": {},
     "output_type": "display_data"
    }
   ],
   "source": [
    "# Set figure\n",
    "#fig, ax1 = plt.subplots(1, figsize=(15,10))\n",
    "\n",
    "# HMI_los\n",
    "lns1 = ax1.plot(Ratio_Pos_Pix, Ratio_Neg_Pix, 'g8', markersize = 4, label = 'HMI_los')\n",
    "\n",
    "# legend\n",
    "lns = lns1\n",
    "labs = [l.get_label() for l in lns]\n",
    "leg = ax1.legend(lns, labs, loc=1, fontsize=16)\n",
    "\n",
    "# XRT and AIA axes formatting\n",
    "ax1.set_xlabel('HMI_Pos Gauss', fontsize=16, fontweight='bold')\n",
    "ax1.set_ylabel('HMI_Neg Gauss', fontsize=16, fontweight='bold')\n",
    "ax1.xaxis.set_tick_params(labelsize=14)\n",
    "ax1.set_xscale('log')\n",
    "ax1.yaxis.set_tick_params(labelsize=14)\n",
    "ax1.set_yscale('log')\n",
    "#ax1.set_ylim([0, 4.5e8])\n",
    "\n",
    "\n",
    "plt.suptitle('HMI_los_Pos vs HMI_los_Neg (Gauss)', fontsize=16, fontweight='bold')\n",
    "\n",
    "# get the lines and texts inside legend box\n",
    "leg_lines = leg.get_lines()\n",
    "leg_texts = leg.get_texts()\n",
    "# bulk-set the properties of all lines and texts\n",
    "plt.setp(leg_lines, linewidth=6)\n",
    "plt.setp(leg_texts, fontsize='x-large')\n",
    "\n",
    "plt.figure(figsize=(15,10))\n",
    "\n",
    "plt.show()"
   ]
  },
  {
   "cell_type": "markdown",
   "metadata": {},
   "source": [
    "### Normalize"
   ]
  },
  {
   "cell_type": "code",
   "execution_count": 99,
   "metadata": {},
   "outputs": [],
   "source": [
    "# Normalize Ratio_Pos_Pix\n",
    "# Method 1:\n",
    "data_frame = pd.DataFrame(Ratio_Pos_Pix)\n",
    "min_max_scaler = preprocessing.MinMaxScaler()\n",
    "np_scaled = min_max_scaler.fit_transform(data_frame)\n",
    "data_frame_normalized = pd.DataFrame(np_scaled)\n",
    "Ratio_Pos_Pix_normalized = data_frame_normalized\n",
    "\n",
    "# Normalize Ratio_Neg_Pix\n",
    "# Method 1:\n",
    "data_frame = pd.DataFrame(Ratio_Neg_Pix)\n",
    "min_max_scaler = preprocessing.MinMaxScaler()\n",
    "np_scaled = min_max_scaler.fit_transform(data_frame)\n",
    "data_frame_normalized = pd.DataFrame(np_scaled)\n",
    "Ratio_Neg_Pix_normalized = data_frame_normalized"
   ]
  },
  {
   "cell_type": "markdown",
   "metadata": {},
   "source": [
    "## HMI_los_Tot_Gauss"
   ]
  },
  {
   "cell_type": "code",
   "execution_count": 100,
   "metadata": {},
   "outputs": [],
   "source": [
    "# HMI los: Find Total (Gauss) Data by Summing Pos and Neg\n",
    "\n",
    "HMI_los_Tot_Sum = []\n",
    "\n",
    "for t in range(N_HMI_los_image_files):\n",
    "    HMI_los_TotGauss = HMI_los_Pos_Gauss[t] + HMI_los_Neg_Gauss[t]\n",
    "    HMIlosTotfloat = float(HMI_los_TotGauss)   # Added for interpolation purposes\n",
    "    HMI_los_Tot_Sum.append(HMIlosTotfloat)\n",
    "#print(HMI_los_Tot_Sum)"
   ]
  },
  {
   "cell_type": "markdown",
   "metadata": {},
   "source": [
    "### Interpolate"
   ]
  },
  {
   "cell_type": "code",
   "execution_count": 101,
   "metadata": {},
   "outputs": [
    {
     "ename": "ValueError",
     "evalue": "fp and xp are not of the same length.",
     "output_type": "error",
     "traceback": [
      "\u001b[0;31m---------------------------------------------------------------------------\u001b[0m",
      "\u001b[0;31mValueError\u001b[0m                                Traceback (most recent call last)",
      "\u001b[0;32m<ipython-input-101-cf3e4453920b>\u001b[0m in \u001b[0;36m<module>\u001b[0;34m()\u001b[0m\n\u001b[1;32m      2\u001b[0m \u001b[0mHMIlosTot_arr\u001b[0m \u001b[0;34m=\u001b[0m \u001b[0mnp\u001b[0m\u001b[0;34m.\u001b[0m\u001b[0masarray\u001b[0m\u001b[0;34m(\u001b[0m\u001b[0mHMI_los_Tot_Sum\u001b[0m\u001b[0;34m)\u001b[0m\u001b[0;34m\u001b[0m\u001b[0m\n\u001b[1;32m      3\u001b[0m \u001b[0mHMIlosTot_1d\u001b[0m \u001b[0;34m=\u001b[0m\u001b[0;34m(\u001b[0m\u001b[0mHMIlosTot_arr\u001b[0m\u001b[0;34m)\u001b[0m\u001b[0;34m.\u001b[0m\u001b[0mflatten\u001b[0m\u001b[0;34m(\u001b[0m\u001b[0;34m)\u001b[0m\u001b[0;34m\u001b[0m\u001b[0m\n\u001b[0;32m----> 4\u001b[0;31m \u001b[0mHMIlosTot_newYvals\u001b[0m \u001b[0;34m=\u001b[0m \u001b[0mnp\u001b[0m\u001b[0;34m.\u001b[0m\u001b[0minterp\u001b[0m\u001b[0;34m(\u001b[0m\u001b[0mXRT_Be_Thin_dateJD\u001b[0m\u001b[0;34m,\u001b[0m \u001b[0mHMIdateJDArray\u001b[0m\u001b[0;34m,\u001b[0m \u001b[0mHMIlosTot_1d\u001b[0m\u001b[0;34m)\u001b[0m\u001b[0;34m\u001b[0m\u001b[0m\n\u001b[0m\u001b[1;32m      5\u001b[0m \u001b[0;31m#print(HMIlosTot_newYvals)\u001b[0m\u001b[0;34m\u001b[0m\u001b[0;34m\u001b[0m\u001b[0m\n",
      "\u001b[0;32m/usr/local/anaconda3/lib/python3.6/site-packages/numpy/lib/function_base.py\u001b[0m in \u001b[0;36minterp\u001b[0;34m(x, xp, fp, left, right, period)\u001b[0m\n\u001b[1;32m   2059\u001b[0m             \u001b[0;32mreturn\u001b[0m \u001b[0minterp_func\u001b[0m\u001b[0;34m(\u001b[0m\u001b[0;34m[\u001b[0m\u001b[0mx\u001b[0m\u001b[0;34m]\u001b[0m\u001b[0;34m,\u001b[0m \u001b[0mxp\u001b[0m\u001b[0;34m,\u001b[0m \u001b[0mfp\u001b[0m\u001b[0;34m,\u001b[0m \u001b[0mleft\u001b[0m\u001b[0;34m,\u001b[0m \u001b[0mright\u001b[0m\u001b[0;34m)\u001b[0m\u001b[0;34m.\u001b[0m\u001b[0mitem\u001b[0m\u001b[0;34m(\u001b[0m\u001b[0;34m)\u001b[0m\u001b[0;34m\u001b[0m\u001b[0m\n\u001b[1;32m   2060\u001b[0m         \u001b[0;32melse\u001b[0m\u001b[0;34m:\u001b[0m\u001b[0;34m\u001b[0m\u001b[0m\n\u001b[0;32m-> 2061\u001b[0;31m             \u001b[0;32mreturn\u001b[0m \u001b[0minterp_func\u001b[0m\u001b[0;34m(\u001b[0m\u001b[0mx\u001b[0m\u001b[0;34m,\u001b[0m \u001b[0mxp\u001b[0m\u001b[0;34m,\u001b[0m \u001b[0mfp\u001b[0m\u001b[0;34m,\u001b[0m \u001b[0mleft\u001b[0m\u001b[0;34m,\u001b[0m \u001b[0mright\u001b[0m\u001b[0;34m)\u001b[0m\u001b[0;34m\u001b[0m\u001b[0m\n\u001b[0m\u001b[1;32m   2062\u001b[0m     \u001b[0;32melse\u001b[0m\u001b[0;34m:\u001b[0m\u001b[0;34m\u001b[0m\u001b[0m\n\u001b[1;32m   2063\u001b[0m         \u001b[0;32mif\u001b[0m \u001b[0mperiod\u001b[0m \u001b[0;34m==\u001b[0m \u001b[0;36m0\u001b[0m\u001b[0;34m:\u001b[0m\u001b[0;34m\u001b[0m\u001b[0m\n",
      "\u001b[0;31mValueError\u001b[0m: fp and xp are not of the same length."
     ]
    }
   ],
   "source": [
    "# Interpolate HMI_los Tot Unsigned Gauss data to XRT Be_Thin dates (only work with HMI_los_Pos_Gauss WITH OUTLIERS)\n",
    "HMIlosTot_arr = np.asarray(HMI_los_Tot_Sum)\n",
    "HMIlosTot_1d =(HMIlosTot_arr).flatten()\n",
    "HMIlosTot_newYvals = np.interp(XRT_Be_Thin_dateJD, HMIdateJDArray, HMIlosTot_1d)\n",
    "#print(HMIlosTot_newYvals)"
   ]
  },
  {
   "cell_type": "code",
   "execution_count": 102,
   "metadata": {},
   "outputs": [],
   "source": [
    "#######################################################################################################################"
   ]
  },
  {
   "cell_type": "code",
   "execution_count": 103,
   "metadata": {},
   "outputs": [],
   "source": [
    "#######################################################################################################################"
   ]
  },
  {
   "cell_type": "markdown",
   "metadata": {},
   "source": [
    "# SCATTER PLOTS"
   ]
  },
  {
   "cell_type": "markdown",
   "metadata": {},
   "source": [
    "## Plot HMI_los_Pos vs HMI_los_Neg"
   ]
  },
  {
   "cell_type": "code",
   "execution_count": 105,
   "metadata": {},
   "outputs": [
    {
     "data": {
      "text/plain": [
       "<Figure size 432x288 with 0 Axes>"
      ]
     },
     "metadata": {},
     "output_type": "display_data"
    },
    {
     "data": {
      "text/plain": [
       "<Figure size 1080x720 with 0 Axes>"
      ]
     },
     "metadata": {},
     "output_type": "display_data"
    }
   ],
   "source": [
    "# Set figure\n",
    "#fig, ax1 = plt.subplots(1, figsize=(15,10))\n",
    "\n",
    "# HMI_los\n",
    "lns1 = ax1.plot(HMI_los_Pos_Gauss, HMI_los_Neg_Gauss, 'g8', markersize = 4, label = 'HMI_los')\n",
    "\n",
    "# legend\n",
    "lns = lns1\n",
    "labs = [l.get_label() for l in lns]\n",
    "leg = ax1.legend(lns, labs, loc=1, fontsize=16)\n",
    "\n",
    "# XRT and AIA axes formatting\n",
    "ax1.set_xlabel('HMI_Pos Gauss', fontsize=16, fontweight='bold')\n",
    "ax1.set_ylabel('HMI_Neg Gauss', fontsize=16, fontweight='bold')\n",
    "ax1.xaxis.set_tick_params(labelsize=14)\n",
    "ax1.set_xscale('log')\n",
    "ax1.yaxis.set_tick_params(labelsize=14)\n",
    "ax1.set_yscale('log')\n",
    "#ax1.set_ylim([0, 4.5e8])\n",
    "\n",
    "\n",
    "plt.suptitle('HMI_los_Pos vs HMI_los_Neg (Gauss)', fontsize=16, fontweight='bold')\n",
    "\n",
    "# get the lines and texts inside legend box\n",
    "leg_lines = leg.get_lines()\n",
    "leg_texts = leg.get_texts()\n",
    "# bulk-set the properties of all lines and texts\n",
    "plt.setp(leg_lines, linewidth=6)\n",
    "plt.setp(leg_texts, fontsize='x-large')\n",
    "\n",
    "plt.figure(figsize=(15,10))\n",
    "\n",
    "plt.show()"
   ]
  },
  {
   "cell_type": "code",
   "execution_count": 106,
   "metadata": {},
   "outputs": [],
   "source": [
    "#######################################################################################################################"
   ]
  },
  {
   "cell_type": "code",
   "execution_count": 107,
   "metadata": {},
   "outputs": [],
   "source": [
    "#######################################################################################################################"
   ]
  },
  {
   "cell_type": "markdown",
   "metadata": {},
   "source": [
    "# HMI_total_B (vector) files"
   ]
  },
  {
   "cell_type": "code",
   "execution_count": 108,
   "metadata": {},
   "outputs": [],
   "source": [
    "HMI_totalB_vector_files = []\n",
    "for name in glob.glob('hmi_vector/supplemental_data/*.sav'):\n",
    "    File_Name = readsav(name)\n",
    "    HMI_totalB_vector_files.append(File_Name)\n",
    "    #print (name)"
   ]
  },
  {
   "cell_type": "markdown",
   "metadata": {},
   "source": [
    "### Number of HMI_totalB_vector .sav files"
   ]
  },
  {
   "cell_type": "code",
   "execution_count": 109,
   "metadata": {},
   "outputs": [
    {
     "name": "stdout",
     "output_type": "stream",
     "text": [
      "474\n"
     ]
    }
   ],
   "source": [
    "# Number of HMI_totalB_vector .sav files\n",
    "N_HMI_totalB_vector_files = len(HMI_totalB_vector_files)\n",
    "print(N_HMI_totalB_vector_files)"
   ]
  },
  {
   "cell_type": "code",
   "execution_count": 110,
   "metadata": {},
   "outputs": [],
   "source": [
    "HMItotalB_factor = 1.0e-2\n",
    "HMItotalB_offset = 1.0e2\n",
    "\n",
    "HMI_totalB_vector_dateJDArray = []\n",
    "HMI_totalB_vector_datetimeArray = []\n",
    "HMI_totalB_vector_values = []\n",
    "FindHMI_totalB_vector_min = []\n",
    "for t in range(N_HMI_totalB_vector_files):\n",
    "    HMIfile = HMI_totalB_vector_files[t]\n",
    "    \n",
    "    HMItotalBgauss = HMIfile.sdo_hmi_data_structure_supplement.b_total[0].total_gauss_data_data\n",
    "    FindHMI_totalB_vector_min.append(HMItotalBgauss)\n",
    "    \n",
    "for t in range(N_HMI_totalB_vector_files):\n",
    "    HMIfile = HMI_totalB_vector_files[t]\n",
    "    \n",
    "    #Added to get JD\n",
    "    HMIjd = HMIfile.sdo_hmi_data_structure_supplement.b_total[0].JD_TIME_ARRAY\n",
    "    HMIdateJDfloat = float(HMIjd)   # Added\n",
    "\n",
    "    HMI_totalB_vector_dateJDArray.append(HMIdateJDfloat)\n",
    "    \n",
    "    HMI_totalB_vector_gauss = HMIfile.sdo_hmi_data_structure_supplement.b_total[0].total_gauss_data_data\n",
    "    ScaledHMItotalB = ((HMItotalB_factor*(HMI_totalB_vector_gauss - min(FindHMI_totalB_vector_min))) + HMItotalB_offset)\n",
    "    \n",
    "    HMI_totalB_vector_float = float(ScaledHMItotalB)   # Added for interpolation purposes\n",
    "\n",
    "    HMI_totalB_vector_values.append(HMI_totalB_vector_float)"
   ]
  },
  {
   "cell_type": "markdown",
   "metadata": {},
   "source": [
    "### Interpolate"
   ]
  },
  {
   "cell_type": "code",
   "execution_count": 111,
   "metadata": {},
   "outputs": [],
   "source": [
    "# Interpolate HMI_totalB_vector data to XRT Be_Thin dates\n",
    "HMI_totalB_vector_arr = np.asarray(HMI_totalB_vector_values)\n",
    "HMI_totalB_vector_1d =(HMI_totalB_vector_arr).flatten()\n",
    "HMI_totalB_vector_newYvals = np.interp(XRT_Be_Thin_dateJD, HMI_totalB_vector_dateJDArray, HMI_totalB_vector_1d)\n",
    "#print(HMI_totalB_vector_newYvals)"
   ]
  },
  {
   "cell_type": "markdown",
   "metadata": {},
   "source": [
    "### Normalize"
   ]
  },
  {
   "cell_type": "code",
   "execution_count": 112,
   "metadata": {},
   "outputs": [],
   "source": [
    "# Normalize HMI_totalB_vector values\n",
    "# Method 1:\n",
    "data_frame = pd.DataFrame(HMI_totalB_vector_newYvals)\n",
    "min_max_scaler = preprocessing.MinMaxScaler()\n",
    "np_scaled = min_max_scaler.fit_transform(data_frame)\n",
    "data_frame_normalized = pd.DataFrame(np_scaled)\n",
    "HMI_totalB_vector_normalized = data_frame_normalized"
   ]
  },
  {
   "cell_type": "code",
   "execution_count": 113,
   "metadata": {},
   "outputs": [],
   "source": [
    "#######################################################################################################################"
   ]
  },
  {
   "cell_type": "code",
   "execution_count": 114,
   "metadata": {},
   "outputs": [],
   "source": [
    "#######################################################################################################################"
   ]
  },
  {
   "cell_type": "markdown",
   "metadata": {},
   "source": [
    "# AIA Filters - 94A and FeXVIII"
   ]
  },
  {
   "cell_type": "markdown",
   "metadata": {},
   "source": [
    "## AIA 94A files"
   ]
  },
  {
   "cell_type": "markdown",
   "metadata": {},
   "source": [
    "### Read in AIA 94A files"
   ]
  },
  {
   "cell_type": "code",
   "execution_count": 115,
   "metadata": {},
   "outputs": [],
   "source": [
    "# Read in AIA 94A files\n",
    "AIA94A_files = []\n",
    "for name in glob.glob('94A/supplement_data/*.sav'):\n",
    "    File_Name = readsav(name)\n",
    "    AIA94A_files.append(File_Name)\n",
    "    #print (name)"
   ]
  },
  {
   "cell_type": "markdown",
   "metadata": {},
   "source": [
    "### Number of AIA_94A .sav files"
   ]
  },
  {
   "cell_type": "code",
   "execution_count": 116,
   "metadata": {},
   "outputs": [
    {
     "name": "stdout",
     "output_type": "stream",
     "text": [
      "549\n"
     ]
    }
   ],
   "source": [
    "# Number of AIA_94A .sav files\n",
    "N_AIA94A_files = len(AIA94A_files)\n",
    "print(N_AIA94A_files)"
   ]
  },
  {
   "cell_type": "markdown",
   "metadata": {},
   "source": [
    "### Extract correct JD Obs Date"
   ]
  },
  {
   "cell_type": "code",
   "execution_count": 196,
   "metadata": {},
   "outputs": [
    {
     "name": "stdout",
     "output_type": "stream",
     "text": [
      "2457550.2722222228\n",
      "2457550.7516666674\n",
      "2457551.253055556\n",
      "2457551.769722223\n",
      "2457555.259027778\n",
      "2457555.691944445\n",
      "2457556.2429166674\n",
      "2457556.756527778\n",
      "2457557.252361112\n",
      "2457557.673194445\n",
      "2457558.2648611115\n",
      "2457558.754444445\n",
      "2457559.2486111117\n",
      "2457559.6537500005\n",
      "2457560.2572222226\n",
      "2457560.7363888896\n",
      "2457561.270416667\n",
      "2457561.750277778\n",
      "2457562.2537500006\n",
      "2457562.768055556\n",
      "2457563.281527778\n",
      "2457563.7537500006\n",
      "2457564.235416667\n",
      "2457564.699027778\n",
      "2457565.2551388894\n",
      "2457565.7738888892\n",
      "2457566.2575000008\n",
      "2457566.748194445\n",
      "2457567.2412500004\n",
      "2457567.7548611118\n",
      "2457568.2509722225\n",
      "2457568.7291666674\n",
      "2457569.2634722227\n",
      "2457569.753055556\n",
      "2457570.247222223\n",
      "2457570.7604166674\n",
      "2457571.255833334\n",
      "2457571.7822222225\n",
      "2457572.271805556\n",
      "2457572.7488888893\n",
      "2457576.253715278\n",
      "2457576.771805556\n",
      "2457577.2561111115\n",
      "2457577.746805556\n",
      "2457578.2398611116\n",
      "2457578.753055556\n",
      "2457579.2495833337\n",
      "2457579.7773611117\n",
      "2457580.261666667\n",
      "2457580.752361112\n",
      "2457581.245694445\n",
      "2457581.758333334\n",
      "2457582.254444445\n",
      "2457582.7336111115\n",
      "2457583.2676388896\n",
      "2457583.7572222226\n",
      "2457584.2516666674\n",
      "2457585.250277778\n",
      "2457585.739166667\n",
      "2457586.232916667\n",
      "2457586.753055556\n",
      "2457587.253055556\n",
      "2457587.7690277784\n",
      "2457588.2562500006\n",
      "2457588.7451388896\n",
      "2457589.2388888896\n",
      "2457589.753194445\n",
      "2457590.3711921303\n",
      "2457590.774583334\n",
      "2457591.194027778\n",
      "2457591.7509722225\n",
      "2457592.2451388896\n",
      "2457592.6850000005\n",
      "2457592.7551388894\n",
      "2457593.6697222227\n",
      "2457597.1662500007\n",
      "2457597.670416667\n",
      "2457598.253055556\n",
      "2457598.660694445\n",
      "2457599.253055556\n",
      "2457599.6697222227\n",
      "2457600.2387500005\n",
      "2457600.753055556\n",
      "2457601.2562500006\n",
      "2457601.770694445\n",
      "2457602.2588888896\n",
      "2457602.749305556\n",
      "2457611.2400000007\n",
      "2457611.753194445\n",
      "2457612.2548611118\n",
      "2457612.766944445\n",
      "2457613.2572222226\n",
      "2457613.7479166673\n",
      "2457614.2461111117\n",
      "2457614.753194445\n",
      "2457618.2766666673\n",
      "2457618.6697222227\n",
      "2457619.2687500007\n",
      "2457619.6697222227\n",
      "2457620.4613888892\n",
      "2457620.690555556\n",
      "2457621.1455555563\n",
      "2457621.7402777784\n",
      "2457622.240555556\n",
      "2457622.753055556\n",
      "2457623.253055556\n",
      "2457623.765555556\n",
      "2457624.255833334\n",
      "2457624.7461111117\n",
      "2457625.2475000005\n",
      "2457625.753055556\n",
      "2457626.7273611114\n",
      "2457627.261527778\n",
      "2457628.253194445\n",
      "2457628.753055556\n",
      "2457629.253888889\n",
      "2457629.732916667\n",
      "2457630.266944445\n",
      "2457630.756527778\n",
      "2457630.9698611116\n",
      "2457630.9700000007\n",
      "2457631.253194445\n",
      "2457631.757916667\n",
      "2457631.974305556\n",
      "2457631.974583334\n",
      "2457632.2495833337\n",
      "2457632.725277778\n",
      "2457633.298194445\n",
      "2457633.752361112\n",
      "2457634.190555556\n",
      "2457634.7637500004\n",
      "2457636.9627777785\n",
      "2457637.2009722227\n",
      "2457637.769722223\n",
      "2457638.004444445\n",
      "2457638.1502777785\n",
      "2457638.750277778\n",
      "2457642.2947222227\n",
      "2457642.756527778\n",
      "2457643.2576388894\n",
      "2457643.737083334\n",
      "2457644.273333334\n",
      "2457644.750694445\n",
      "2457645.253055556\n",
      "2457645.762083334\n",
      "2457646.253055556\n",
      "2457646.7426388892\n",
      "2457647.753055556\n",
      "2457648.255555556\n",
      "2457649.258055556\n",
      "2457649.7947222227\n",
      "2457650.2500000005\n",
      "2457650.753055556\n",
      "2457651.2513888893\n",
      "2457651.7736111116\n",
      "2457652.430833334\n",
      "2457652.753055556\n",
      "2457653.221805556\n",
      "2457653.7548611118\n",
      "2457654.2113888892\n",
      "2457654.735416667\n",
      "2457655.236805556\n",
      "2457655.7490277784\n",
      "2457656.253194445\n",
      "2457656.7604166674\n",
      "2457660.2562500006\n",
      "2457660.746944445\n",
      "2457661.248194445\n",
      "2457661.753194445\n",
      "2457662.2495833337\n",
      "2457662.771944445\n",
      "2457663.262083334\n",
      "2457663.752361112\n",
      "2457664.253194445\n",
      "2457664.753194445\n",
      "2457665.2541666673\n",
      "2457665.7336111115\n",
      "2457666.267777778\n",
      "2457666.7573611117\n",
      "2457667.253055556\n",
      "2457667.7587500005\n",
      "2457668.2500000005\n",
      "2457668.739166667\n",
      "2457669.240555556\n",
      "2457669.753055556\n",
      "2457670.2593055563\n",
      "2457670.764305556\n",
      "2457671.254444445\n",
      "2457671.7451388896\n",
      "2457672.2465277785\n",
      "2457672.753194445\n",
      "2457672.976666667\n",
      "2457673.2576388894\n",
      "2457673.7947222227\n",
      "2457674.2601388893\n",
      "2457674.8676388892\n",
      "2457675.2520833337\n",
      "2457675.879444445\n",
      "2457676.2495833337\n",
      "2457676.8433333337\n",
      "2457677.2659722227\n",
      "2457677.7552777785\n",
      "2457681.2531365748\n",
      "2457681.7625000007\n",
      "2457682.253055556\n",
      "2457682.743055556\n",
      "2457683.244444445\n",
      "2457683.753194445\n",
      "2457684.255972223\n",
      "2457684.768055556\n",
      "2457685.258333334\n",
      "2457685.7490277784\n",
      "2457686.250277778\n",
      "2457686.753055556\n",
      "2457687.2516666674\n",
      "2457687.7740277783\n",
      "2457688.264016204\n",
      "2457688.753472223\n",
      "2457689.253055556\n",
      "2457689.7548611118\n",
      "2457690.2562500006\n",
      "2457690.735694445\n",
      "2457691.2372222226\n",
      "2457691.749305556\n",
      "2457692.253055556\n",
      "2457692.7608333337\n",
      "2457693.2520833337\n",
      "2457693.7412500004\n",
      "2457694.2427777783\n",
      "2457694.753194445\n",
      "2457695.2541666673\n",
      "2457695.7662500003\n",
      "2457696.2566666673\n",
      "2457696.747222223\n",
      "2457697.248194445\n",
      "2457697.753055556\n",
      "2457698.2500000005\n",
      "2457698.7722222228\n",
      "2457702.337916667\n",
      "2457702.7572222226\n",
      "2457703.2926388895\n",
      "2457703.7586111114\n",
      "2457704.250277778\n",
      "2457704.739583334\n",
      "2457705.240694445\n",
      "2457705.753194445\n",
      "2457706.253194445\n",
      "2457706.764583334\n",
      "2457707.2548611118\n",
      "2457707.7461111117\n",
      "2457708.753055556\n",
      "2457709.190555556\n",
      "2457709.7701388896\n",
      "2457710.1696875007\n",
      "2457710.750694445\n",
      "2457711.2520833337\n",
      "2457711.753194445\n",
      "2457712.253194445\n",
      "2457712.731944445\n",
      "2457713.2659722227\n",
      "2457713.755555556\n",
      "2457714.253194445\n",
      "2457714.756944445\n",
      "2457715.2486111117\n",
      "2457715.7375000007\n",
      "2457716.2388888896\n",
      "2457716.7513888893\n",
      "2457717.253194445\n",
      "2457717.7625000007\n",
      "2457718.253194445\n",
      "2457718.743055556\n",
      "2457719.244444445\n",
      "2457719.753194445\n",
      "2457723.251805556\n",
      "2457723.7740277783\n",
      "2457724.264166667\n",
      "2457724.753472223\n",
      "2457725.253194445\n",
      "2457725.7548611118\n",
      "2457726.2562500006\n",
      "2457726.735694445\n",
      "2457727.236805556\n",
      "2457727.749305556\n",
      "2457728.7608333337\n",
      "2457729.2520833337\n",
      "2457729.7413888895\n",
      "2457730.2426388892\n",
      "2457730.753194445\n",
      "2457731.3398611117\n",
      "2457731.7663888894\n",
      "2457732.256527778\n",
      "2457732.746944445\n",
      "2457733.248194445\n",
      "2457733.753194445\n",
      "2457734.173333334\n",
      "2457734.771805556\n",
      "2457735.1697222227\n",
      "2457735.7552777785\n",
      "2457736.1837500003\n",
      "2457736.753055556\n",
      "2457737.254444445\n",
      "2457737.7337500006\n",
      "2457738.169861112\n",
      "2457738.7572222226\n",
      "2457739.1697222227\n",
      "2457739.7586111114\n",
      "2457740.250416667\n",
      "2457740.2505555563\n",
      "2457740.7393055563\n",
      "2457740.739444445\n",
      "2457744.2461111117\n",
      "2457744.753194445\n",
      "2457745.2115277783\n",
      "2457745.7701388896\n",
      "2457746.2601388893\n",
      "2457746.750694445\n",
      "2457747.2520833337\n",
      "2457747.753194445\n",
      "2457748.3433333337\n",
      "2457748.7316666674\n",
      "2457749.2659722227\n",
      "2457749.7551388894\n",
      "2457750.359305556\n",
      "2457750.756527778\n",
      "2457751.248194445\n",
      "2457751.737083334\n",
      "2457752.238472223\n",
      "2457752.7509722225\n",
      "2457753.253055556\n",
      "2457753.7625000007\n",
      "2457754.253055556\n",
      "2457754.7197106485\n",
      "2457755.2444328708\n",
      "2457755.753043982\n",
      "2457756.255543982\n",
      "2457756.768043982\n",
      "2457757.2583217598\n",
      "2457757.7484606486\n",
      "2457758.2499884265\n",
      "2457758.753043982\n",
      "2457759.2513773153\n",
      "2457759.7735995376\n",
      "2457760.2638773154\n",
      "2457760.753182871\n",
      "2457761.253182871\n",
      "2457765.2518518525\n",
      "2457765.7409606487\n",
      "2457766.2423495376\n",
      "2457766.753043982\n",
      "2457767.2534606485\n",
      "2457767.7659606487\n",
      "2457768.2562384265\n",
      "2457769.2479050932\n",
      "2457769.753043982\n",
      "2457770.249293982\n",
      "2457770.7715162043\n",
      "2457771.2617939822\n",
      "2457771.6697106487\n",
      "2457772.246296297\n",
      "2457772.753182871\n",
      "2457773.70457176\n",
      "2457774.2673495375\n",
      "2457774.7947106487\n",
      "2457775.253182871\n",
      "2457775.7583217598\n",
      "2457775.758460649\n",
      "2457776.2495717597\n",
      "2457776.7388773155\n",
      "2457777.2402662043\n",
      "2457777.7552662045\n",
      "2457778.253182871\n",
      "2457778.7638773154\n",
      "2457778.764016204\n",
      "2457780.24582176\n",
      "2457780.753182871\n",
      "2457781.769432871\n",
      "2457781.7695717597\n",
      "2457782.7499884265\n",
      "2457786.253182871\n",
      "2457786.7562384265\n",
      "2457787.2576273154\n",
      "2457787.736793982\n",
      "2457788.238182871\n",
      "2457788.750405093\n",
      "2457789.253043982\n",
      "2457789.253182871\n",
      "2457789.7617939822\n",
      "2457790.253043982\n",
      "2457790.745127315\n",
      "2457791.2437384264\n",
      "2457791.753043982\n",
      "2457792.2552662045\n",
      "2457792.7673495375\n",
      "2457793.2574884263\n",
      "2457793.2576273154\n",
      "2457793.74832176\n",
      "2457794.249710649\n",
      "2457794.753182871\n",
      "2457795.2510995376\n",
      "2457795.773182871\n",
      "2457796.263043982\n",
      "2457796.2633217596\n",
      "2457796.753182871\n",
      "2457797.253182871\n",
      "2457797.756932871\n",
      "2457798.255543982\n",
      "2457798.7347106487\n",
      "2457799.2687384263\n",
      "2457799.748182871\n",
      "2457800.253182871\n",
      "2457800.308182871\n",
      "2457800.3084606486\n",
      "2457800.7597106486\n",
      "2457801.2513773153\n",
      "2457801.7402662043\n",
      "2457802.241655093\n",
      "2457802.753043982\n",
      "2457803.253182871\n",
      "2457807.3726273156\n",
      "2457807.751793982\n",
      "2457808.3537384267\n",
      "2457808.753043982\n",
      "2457808.753182871\n",
      "2457809.336377315\n",
      "2457809.7326273154\n",
      "2457810.3087384263\n",
      "2457810.7562384265\n",
      "2457811.232349538\n",
      "2457811.7576273154\n",
      "2457812.315543982\n",
      "2457812.738043982\n",
      "2457812.738182871\n",
      "2457813.294849538\n",
      "2457813.7520717597\n",
      "2457814.29832176\n",
      "2457814.763182871\n",
      "2457815.2534606485\n",
      "2457815.7437384264\n",
      "2457816.245127315\n",
      "2457816.753043982\n",
      "2457816.753182871\n",
      "2457817.326655093\n",
      "2457817.7687384263\n",
      "2457818.259155093\n",
      "2457818.7495717597\n",
      "2457819.284432871\n",
      "2457819.753043982\n",
      "2457819.753182871\n",
      "2457820.2059606486\n",
      "2457820.7254050933\n",
      "2457821.7322106487\n",
      "2457821.732349538\n",
      "2457822.2913773153\n",
      "2457822.755543982\n",
      "2457823.2740162043\n",
      "2457823.7360995375\n",
      "2457823.7362384265\n",
      "2457824.2374884263\n",
      "2457824.7498495374\n",
      "2457824.7499884265\n",
      "2457828.301793982\n",
      "2457828.30207176\n",
      "2457828.766655093\n",
      "2457828.7669328707\n",
      "2457829.326099538\n",
      "2457829.3263773154\n",
      "2457830.2484606486\n",
      "2457830.2485995376\n",
      "2457830.753182871\n",
      "2457830.7534606485\n",
      "2457831.2501273155\n",
      "2457831.250266204\n",
      "2457832.32957176\n",
      "2457832.3298495375\n",
      "2457832.753182871\n",
      "2457832.7534606485\n",
      "2457833.253043982\n",
      "2457833.253182871\n",
      "2457833.7534606485\n",
      "2457833.7537384266\n",
      "2457833.980682871\n",
      "2457833.98082176\n",
      "2457833.9995717597\n",
      "2457833.999710649\n",
      "2457834.3226273153\n",
      "2457834.7340162043\n",
      "2457835.268043982\n",
      "2457835.7574884263\n",
      "2457835.7576273154\n",
      "2457836.305127315\n",
      "2457836.759016204\n",
      "2457837.250266204\n",
      "2457837.73957176\n",
      "2457838.2409606487\n",
      "2457838.753182871\n",
      "2457839.253182871\n",
      "2457839.76457176\n",
      "2457840.2548495377\n",
      "2457840.2549884263\n",
      "2457840.745127315\n",
      "2457841.2912384267\n",
      "2457841.753043982\n",
      "2457843.3273495375\n",
      "2457843.7947106487\n",
      "2457844.2970717596\n",
      "2457844.753043982\n",
      "2457845.211377315\n",
      "2457845.7315162043\n",
      "2457845.731655093\n",
      "2457846.2947106487\n",
      "2457846.671932871\n",
      "2457847.225266204\n",
      "2457847.756932871\n",
      "2457848.248182871\n",
      "2457848.73707176\n",
      "2457849.238460649\n",
      "2457849.7509606485\n",
      "2457853.255405093\n",
      "2457853.255543982\n",
      "2457853.768043982\n",
      "2457854.3259606487\n",
      "2457854.7485995376\n",
      "2457855.2499884265\n",
      "2457855.753182871\n",
      "2457855.75332176\n",
      "2457856.2512731487\n",
      "2457856.7735995376\n",
      "2457857.301793982\n",
      "2457857.753182871\n",
      "2457858.7545717596\n",
      "2457859.255960649\n",
      "2457859.7351273154\n",
      "2457860.294849538\n",
      "2457860.7490162044\n",
      "2457861.2947106487\n",
      "2457861.7599884267\n",
      "2457861.7601273153\n",
      "2457862.251793982\n",
      "2457862.740682871\n",
      "2457863.2420138894\n",
      "2457863.753043982\n",
      "2457864.298877315\n",
      "2457864.765682871\n",
      "2457865.25582176\n",
      "2457865.255960649\n",
      "2457865.7462384263\n",
      "2457866.2474884265\n",
      "2457866.753043982\n",
      "2457866.753182871\n"
     ]
    }
   ],
   "source": [
    "# Extract correct JD Obs Date\n",
    "\n",
    "AIA94A_JDArray = []\n",
    "AIA94A_ObsDate = []\n",
    "\n",
    "for t in range(N_AIA94A_files):\n",
    "    AIA_94Afile = AIA94A_files[t]\n",
    "    \n",
    "    JDtimeArray = AIA_94Afile.sdo_aia_data_structure_supplement.JD_TIME_ARRAY\n",
    "    # Check - only extract one date\n",
    "    if len(JDtimeArray[0]) == 2:\n",
    "        JDtimeArray = JDtimeArray[0][0]\n",
    "        \n",
    "    JDtimeFloat = float(JDtimeArray)\n",
    "    AIA94A_JDArray.append(JDtimeFloat)\n",
    "    \n",
    "    # Convert from JD to UTC\n",
    "    ObsDate = Time(JDtimeFloat, format='jd', scale='utc')\n",
    "    #ObsDate = jd.datetime(JDtimeArray)  \n",
    "    #print(ObsDate)\n",
    "    AIA94A_ObsDate.append(ObsDate)"
   ]
  },
  {
   "cell_type": "markdown",
   "metadata": {},
   "source": [
    "### Check number of Dates "
   ]
  },
  {
   "cell_type": "code",
   "execution_count": 118,
   "metadata": {},
   "outputs": [
    {
     "data": {
      "text/plain": [
       "549"
      ]
     },
     "execution_count": 118,
     "metadata": {},
     "output_type": "execute_result"
    }
   ],
   "source": [
    "# Check number of Dates \n",
    "len(AIA94A_ObsDate)"
   ]
  },
  {
   "cell_type": "markdown",
   "metadata": {},
   "source": [
    "### Extract AIA 94A data and format dates (not needed for plots)"
   ]
  },
  {
   "cell_type": "code",
   "execution_count": 119,
   "metadata": {},
   "outputs": [],
   "source": [
    "# Extract AIA 94A data and format dates (not needed for plots)\n",
    "AIA_94A_total_positive_counts_data = []\n",
    "AIA_94A_FOV_ARCSECONDS = []\n",
    "AIA_94A_N_PIXELS_POSITIVE_COUNTS_DATA =[]\n",
    "AIA_94A_N_TOTAL_PIXELS = []\n",
    "\n",
    "AIA_94A_factor = 1.0e6\n",
    "\n",
    "# Extract AIA 94A data\n",
    "for t in range(N_AIA94A_files):\n",
    "    AIA_94Afile = AIA94A_files[t]\n",
    "    \n",
    "    TotPosCounts = AIA_94Afile.sdo_aia_data_structure_supplement.total_positive_counts_data\n",
    "    AIA_94A_total_positive_counts_data.append(TotPosCounts)\n",
    "    \n",
    "    FOVarcsec = AIA_94Afile.sdo_aia_data_structure_supplement.FOV_ARCSECONDS\n",
    "    AIA_94A_FOV_ARCSECONDS.append(FOVarcsec)\n",
    "    \n",
    "    NPixPosCounts = AIA_94Afile.sdo_aia_data_structure_supplement.N_PIXELS_POSITIVE_COUNTS_DATA\n",
    "    AIA_94A_N_PIXELS_POSITIVE_COUNTS_DATA.append(NPixPosCounts)\n",
    "    \n",
    "    NTotPix = AIA_94Afile.sdo_aia_data_structure_supplement.N_TOTAL_PIXELS\n",
    "    AIA_94A_N_TOTAL_PIXELS.append(NTotPix)\n",
    "\n",
    "# Extract date range \n",
    "N_AIA94A_files1 = 423\n",
    "AIA_94AdatetimeArray = []\n",
    "ScaledAIA94A = []\n",
    "\n",
    "for t in range(N_AIA94A_files):\n",
    "    #print(\"Loop Number\", t)\n",
    "    if t < N_AIA94A_files1 + 1:\n",
    "        AIA_94Afile = AIA94A_files[t]\n",
    "    \n",
    "        AIA_94AdateArray = str(AIA_94Afile)\n",
    "        AIA_94AdateArray[108:127]\n",
    "        AIA_94A_Date = AIA_94AdateArray[108:127]\n",
    "        AIA_94Adatetime = [datetime.strptime(AIA_94A_Date, \"%Y-%m-%d\"+'T'+\"%H:%M:%S\")]\n",
    "\n",
    "    \n",
    "    else:\n",
    "        AIA_94Afile = AIA94A_files[t]\n",
    "    \n",
    "        AIA_94AdateArray = str(AIA_94Afile)\n",
    "        AIA_94AdateArray[107:126]\n",
    "        AIA_94A_Date = AIA_94AdateArray[107:126]\n",
    "        AIA_94Adatetime = [datetime.strptime(AIA_94A_Date, \"%Y-%m-%d\"+'T'+\"%H:%M:%S\")]\n",
    "\n",
    "    \n",
    "    #print(AIA_94Adatetime)\n",
    "    AIA_94A_time = np.asarray(AIA_94Adatetime)\n",
    "    #AIA_94A_time = np.asarray(AIA_94AdatetimeYMD[0])\n",
    "    AIA_94AdatetimeArray.append(AIA_94A_time)\n",
    "    \n",
    "    TotPosCounts = AIA_94Afile.sdo_aia_data_structure_supplement[0].total_positive_counts_data\n",
    "    FOVarcsec = AIA_94Afile.sdo_aia_data_structure_supplement[0].FOV_ARCSECONDS\n",
    "    NPixPosCounts = AIA_94Afile.sdo_aia_data_structure_supplement[0].N_PIXELS_POSITIVE_COUNTS_DATA\n",
    "    NTotPix = AIA_94Afile.sdo_aia_data_structure_supplement[0].N_TOTAL_PIXELS\n",
    "    \n",
    "    # Avoid anomolies in data, like double values in array\n",
    "    if len(TotPosCounts) == 2:\n",
    "        TotPosCounts = TotPosCounts[0]\n",
    "    if len(FOVarcsec) == 2:\n",
    "        FOVarcsec = FOVarcsec[0]\n",
    "    if len(NPixPosCounts) == 2:\n",
    "        NPixPosCounts = NPixPosCounts[0]\n",
    "    if len(NTotPix) == 2:\n",
    "        NTotPix = NTotPix[0]   \n",
    "    \n",
    "    NormalizedAIA94A = (((TotPosCounts)/((FOVarcsec)*(NPixPosCounts/NTotPix)))*AIA_94A_factor)\n",
    "    AIA_94Afloat = float(NormalizedAIA94A)   # Added for interpolation purposes\n",
    "    ScaledAIA94A.append(AIA_94Afloat)"
   ]
  },
  {
   "cell_type": "markdown",
   "metadata": {},
   "source": [
    "### Interpolate"
   ]
  },
  {
   "cell_type": "code",
   "execution_count": 120,
   "metadata": {},
   "outputs": [],
   "source": [
    "# Interpolate AIA 94A data to XRT Be_Thin dates\n",
    "AIA94A_arr = np.asarray(ScaledAIA94A)\n",
    "AIA94A_1d =(AIA94A_arr).flatten()\n",
    "AIA94A_newYvals = np.interp(XRT_Be_Thin_dateJD, AIA94A_JDArray, AIA94A_1d)\n",
    "#print(AIA94A_newYvals)"
   ]
  },
  {
   "cell_type": "markdown",
   "metadata": {},
   "source": [
    "### Normalize"
   ]
  },
  {
   "cell_type": "code",
   "execution_count": 121,
   "metadata": {},
   "outputs": [],
   "source": [
    "# Normalize AIA 94A values\n",
    "# Method 1:\n",
    "data_frame = pd.DataFrame(AIA94A_newYvals)\n",
    "min_max_scaler = preprocessing.MinMaxScaler()\n",
    "np_scaled = min_max_scaler.fit_transform(data_frame)\n",
    "data_frame_normalized = pd.DataFrame(np_scaled)\n",
    "AIA_94A_normalized = data_frame_normalized"
   ]
  },
  {
   "cell_type": "markdown",
   "metadata": {},
   "source": [
    "## AIA FeXVIII files"
   ]
  },
  {
   "cell_type": "markdown",
   "metadata": {},
   "source": [
    "### Read in AIA FeXVIII files"
   ]
  },
  {
   "cell_type": "code",
   "execution_count": 122,
   "metadata": {},
   "outputs": [],
   "source": [
    "# Read in AIA FeXVIII files\n",
    "FeXVIII_files = []\n",
    "for name in glob.glob('FeXVIII/supplemental_data/*.sav'):\n",
    "    File_Name = readsav(name)\n",
    "    FeXVIII_files.append(File_Name)\n",
    "    #print (name)"
   ]
  },
  {
   "cell_type": "markdown",
   "metadata": {},
   "source": [
    "### Number of FeXVIII_94A .sav files"
   ]
  },
  {
   "cell_type": "code",
   "execution_count": 123,
   "metadata": {},
   "outputs": [
    {
     "name": "stdout",
     "output_type": "stream",
     "text": [
      "549\n"
     ]
    }
   ],
   "source": [
    "# Number of FeXVIII_94A .sav files\n",
    "N_FeXVIII_files = len(FeXVIII_files)\n",
    "print(N_FeXVIII_files)"
   ]
  },
  {
   "cell_type": "markdown",
   "metadata": {},
   "source": [
    "### Extract correct JD Obs Date"
   ]
  },
  {
   "cell_type": "code",
   "execution_count": 124,
   "metadata": {},
   "outputs": [],
   "source": [
    "# Extract correct JD Obs Date\n",
    "\n",
    "AIAFeXVIII_JDArray = []\n",
    "AIAFeXVIII_ObsDate = []\n",
    "\n",
    "for t in range(N_FeXVIII_files):\n",
    "    AIA_FeXVIII_file = FeXVIII_files[t]\n",
    "    \n",
    "    JDtimeArray = AIA_FeXVIII_file.sdo_aia_data_structure_supplement.JD_TIME_ARRAY\n",
    "    # Check - only extract one date\n",
    "    if len(JDtimeArray[0]) == 2:\n",
    "        JDtimeArray = JDtimeArray[0][0]\n",
    "        \n",
    "    JDtimeFloat = float(JDtimeArray)\n",
    "    AIAFeXVIII_JDArray.append(JDtimeFloat)\n",
    "    \n",
    "    # Convert from JD to UTC\n",
    "    ObsDate = Time(JDtimeFloat, format='jd', scale='utc')\n",
    "    #ObsDate = jd.datetime(JDtimeArray)  \n",
    "    #print(ObsDate)\n",
    "    AIAFeXVIII_ObsDate.append(ObsDate)"
   ]
  },
  {
   "cell_type": "markdown",
   "metadata": {},
   "source": [
    "### Extract AIA FeXVIII data and format dates (format dates - not needed for plots)"
   ]
  },
  {
   "cell_type": "code",
   "execution_count": 125,
   "metadata": {},
   "outputs": [],
   "source": [
    "# Extract AIA FeXVIII data and format dates (format dates - not needed for plots)\n",
    "FeXVIII_total_positive_counts_data = []\n",
    "FeXVIII_FOV_ARCSECONDS = []\n",
    "FeXVIII_N_PIXELS_POSITIVE_COUNTS_DATA =[]\n",
    "FeXVIII_N_TOTAL_PIXELS = []\n",
    "\n",
    "FeXVIII_factor = 1.0e6\n",
    "\n",
    "# Extract date range \n",
    "N_FeXVIII_files1 = 423\n",
    "FeXVIII_datetimeArray = []\n",
    "ScaledFeXVIII = []\n",
    "\n",
    "for t in range(N_FeXVIII_files):\n",
    "    #print(\"Loop Number\", t)\n",
    "    if t < N_FeXVIII_files1 + 1:\n",
    "        FeXVIII_file = FeXVIII_files[t]\n",
    "    \n",
    "        FeXVIIIdateArray = str(FeXVIII_file)\n",
    "        FeXVIIIdateArray[106:125]\n",
    "        FeXVIII_Date = FeXVIIIdateArray[106:125]\n",
    "        FeXVIIIdatetime = [datetime.strptime(FeXVIII_Date, \"%Y-%m-%d\"+'T'+\"%H:%M:%S\")]\n",
    "\n",
    "    \n",
    "    else:\n",
    "        FeXVIII_file = FeXVIII_files[t]\n",
    "    \n",
    "        FeXVIIIdateArray = str(FeXVIII_file)\n",
    "        FeXVIIIdateArray[105:124]\n",
    "        FeXVIII_Date = FeXVIIIdateArray[105:124]\n",
    "        FeXVIIIdatetime = [datetime.strptime(FeXVIII_Date, \"%Y-%m-%d\"+'T'+\"%H:%M:%S\")]\n",
    "\n",
    "    \n",
    "    #print(FeXVIIIdatetime)\n",
    "    FeXVIII_time = np.asarray(FeXVIIIdatetime)\n",
    "    FeXVIII_datetimeArray.append(FeXVIII_time)\n",
    "    \n",
    "    TotPosCounts = FeXVIII_file.sdo_aia_data_structure_supplement[0].total_positive_counts_data\n",
    "    FOVarcsec = FeXVIII_file.sdo_aia_data_structure_supplement[0].FOV_ARCSECONDS\n",
    "    NPixPosCounts = FeXVIII_file.sdo_aia_data_structure_supplement[0].N_PIXELS_POSITIVE_COUNTS_DATA\n",
    "    NTotPix = FeXVIII_file.sdo_aia_data_structure_supplement[0].N_TOTAL_PIXELS\n",
    "    \n",
    "    # Avoid anomolies in data, like double values in array\n",
    "    if len(TotPosCounts) == 2:\n",
    "        TotPosCounts = TotPosCounts[0]\n",
    "    if len(FOVarcsec) == 2:\n",
    "        FOVarcsec = FOVarcsec[0]\n",
    "    if len(NPixPosCounts) == 2:\n",
    "        NPixPosCounts = NPixPosCounts[0]\n",
    "    if len(NTotPix) == 2:\n",
    "        NTotPix = NTotPix[0]   \n",
    "    \n",
    "    NormalizedFeXVIII = (((TotPosCounts)/((FOVarcsec)*(NPixPosCounts/NTotPix)))*FeXVIII_factor)\n",
    "    AIA_FeXVIIIfloat = float(NormalizedFeXVIII)   # Added for interpolation purposes\n",
    "    ScaledFeXVIII.append(AIA_FeXVIIIfloat)"
   ]
  },
  {
   "cell_type": "markdown",
   "metadata": {},
   "source": [
    "### Interpolate"
   ]
  },
  {
   "cell_type": "code",
   "execution_count": 126,
   "metadata": {},
   "outputs": [],
   "source": [
    "# Interpolate AIA FeXVIII data to XRT Be_Thin dates\n",
    "AIA_FeXVIII_arr = np.asarray(ScaledFeXVIII)\n",
    "AIA_FeXVIII_1d =(AIA_FeXVIII_arr).flatten()\n",
    "AIA_FeXVIII_newYvals = np.interp(XRT_Be_Thin_dateJD, AIAFeXVIII_JDArray, AIA_FeXVIII_1d)\n",
    "#print(AIA_FeXVIII_newYvals)"
   ]
  },
  {
   "cell_type": "markdown",
   "metadata": {},
   "source": [
    "### Normalize"
   ]
  },
  {
   "cell_type": "code",
   "execution_count": 127,
   "metadata": {},
   "outputs": [],
   "source": [
    "# Normalize AIA FeXVIII values\n",
    "# Method 1:\n",
    "data_frame = pd.DataFrame(AIA_FeXVIII_newYvals)\n",
    "min_max_scaler = preprocessing.MinMaxScaler()\n",
    "np_scaled = min_max_scaler.fit_transform(data_frame)\n",
    "data_frame_normalized = pd.DataFrame(np_scaled)\n",
    "AIA_FeXVIII_normalized = data_frame_normalized"
   ]
  },
  {
   "cell_type": "code",
   "execution_count": 128,
   "metadata": {},
   "outputs": [],
   "source": [
    "#######################################################################################################################"
   ]
  },
  {
   "cell_type": "code",
   "execution_count": 129,
   "metadata": {},
   "outputs": [],
   "source": [
    "#######################################################################################################################"
   ]
  },
  {
   "cell_type": "markdown",
   "metadata": {},
   "source": [
    "# SCATTER PLOTS"
   ]
  },
  {
   "cell_type": "markdown",
   "metadata": {},
   "source": [
    "## Plot HMI_los_316_Gauss vs XRT and AIA filters"
   ]
  },
  {
   "cell_type": "code",
   "execution_count": 130,
   "metadata": {},
   "outputs": [
    {
     "data": {
      "image/png": "[encoded data removed]",
      "text/plain": [
       "<Figure size 1080x720 with 2 Axes>"
      ]
     },
     "metadata": {},
     "output_type": "display_data"
    }
   ],
   "source": [
    "# Set figure\n",
    "fig, ax1 = plt.subplots(1, figsize=(15,10)) # Comment out this line if you want to hide plot\n",
    "\n",
    "# XRT filters\n",
    "lns1 = ax1.plot(HMI_los_316_Gauss_newYvals, Al_Mesh_newYvals, 'r8', markersize = 5, label = 'Al_Mesh')\n",
    "lns2 = ax1.plot(HMI_los_316_Gauss_newYvals, Al_Poly_newYvals, 'bD', markersize = 4, label = 'Al_Poly')\n",
    "lns3 = ax1.plot(HMI_los_316_Gauss_newYvals, Be_Thin_newYvals, 'g*', markersize = 6, label = 'Be_Thin')\n",
    "\n",
    "# AIA filters\n",
    "lns4 = ax1.plot(HMI_los_316_Gauss_newYvals, AIA94A_newYvals, 'ms', markersize = 4, label = '94A')\n",
    "lns5 = ax1.plot(HMI_los_316_Gauss_newYvals, AIA_FeXVIII_newYvals, 'c^', markersize = 5, label = 'FeXVIII')\n",
    "\n",
    "ax2 = ax1.twinx()\n",
    "\n",
    "# legend\n",
    "lns = lns1+lns2+lns3+lns4+lns5\n",
    "labs = [l.get_label() for l in lns]\n",
    "leg = ax1.legend(lns, labs, loc=0, markerscale=3, fontsize=16)\n",
    "\n",
    "# XRT and AIA axes formatting\n",
    "ax1.set_xlabel('Gauss', fontsize=20, fontweight='bold')\n",
    "ax1.set_ylabel('DN / sec', fontsize=20, fontweight='bold')\n",
    "ax1.xaxis.set_tick_params(labelsize=18)\n",
    "ax1.set_xscale('log')\n",
    "ax1.yaxis.set_tick_params(labelsize=18)\n",
    "ax1.set_yscale('log')\n",
    "ax1.set_ylim([1.5e5, 0.5e9])\n",
    "\n",
    "# HMI y-axis formatting\n",
    "ax2.set_ylabel('DN / sec', fontsize=20, fontweight='bold')\n",
    "ax2.yaxis.set_tick_params(labelsize=18)\n",
    "ax2.set_yscale('log')\n",
    "ax2.set_ylim([1.5e5, 0.5e9])\n",
    "\n",
    "plt.suptitle('HMI_los_316_Gauss vs XRT and AIA filters', fontsize=24, fontweight='bold')\n",
    "\n",
    "# get the lines and texts inside legend box\n",
    "leg_lines = leg.get_lines()\n",
    "leg_texts = leg.get_texts()\n",
    "# bulk-set the properties of all lines and texts\n",
    "plt.setp(leg_lines, linewidth=6)\n",
    "plt.setp(leg_texts, fontsize='xx-large')\n",
    "plt.grid(True, linewidth=2, which='major')\n",
    "#plt.hlines(2e6,0.15e6,2e7)\n",
    "\n",
    "plt.show()"
   ]
  },
  {
   "cell_type": "markdown",
   "metadata": {},
   "source": [
    "## Plot HMI_totalB_316_Gauss vs XRT and AIA filters"
   ]
  },
  {
   "cell_type": "code",
   "execution_count": 199,
   "metadata": {},
   "outputs": [
    {
     "data": {
      "text/plain": [
       "<Figure size 432x288 with 0 Axes>"
      ]
     },
     "metadata": {},
     "output_type": "display_data"
    }
   ],
   "source": [
    "# Set figure\n",
    "#fig, ax1 = plt.subplots(1, figsize=(15,10)) # Comment out this line if you want to hide plot\n",
    "\n",
    "# XRT filters\n",
    "lns1 = ax1.plot(HMI_totB_316_Gauss_newYvals, Al_Mesh_newYvals, 'r8', markersize = 5, label = 'Al_Mesh')\n",
    "lns2 = ax1.plot(HMI_totB_316_Gauss_newYvals, Al_Poly_newYvals, 'b.', markersize = 4, label = 'Al_Poly')\n",
    "lns3 = ax1.plot(HMI_totB_316_Gauss_newYvals, Be_Thin_newYvals, 'g*', markersize = 6, label = 'Be_Thin')\n",
    "\n",
    "# AIA filters\n",
    "lns4 = ax1.plot(HMI_totB_316_Gauss_newYvals, AIA94A_newYvals, 'ms', markersize = 4, label = '94A')\n",
    "lns5 = ax1.plot(HMI_totB_316_Gauss_newYvals, AIA_FeXVIII_newYvals, 'c^', markersize = 5, label = 'FeXVIII')\n",
    "\n",
    "ax2 = ax1.twinx()\n",
    "\n",
    "# legend\n",
    "lns = lns1+lns2+lns3+lns4+lns5\n",
    "labs = [l.get_label() for l in lns]\n",
    "leg = ax1.legend(lns, labs, loc=0, markerscale=3, fontsize=16)\n",
    "\n",
    "# XRT and AIA axes formatting\n",
    "ax1.set_xlabel('Gauss', fontsize=20, fontweight='bold')\n",
    "ax1.set_ylabel('DN / sec', fontsize=20, fontweight='bold')\n",
    "ax1.xaxis.set_tick_params(labelsize=18)\n",
    "ax1.set_xscale('log')\n",
    "ax1.yaxis.set_tick_params(labelsize=18)\n",
    "ax1.set_yscale('log')\n",
    "#ax1.set_ylim([0, 4.5e8])\n",
    "\n",
    "# HMI y-axis formatting\n",
    "ax2.set_ylabel('DN / sec', fontsize=20, fontweight='bold')\n",
    "ax2.yaxis.set_tick_params(labelsize=18)\n",
    "ax2.set_yscale('log')\n",
    "ax2.set_ylim([1.5e5, 0.5e9])\n",
    "\n",
    "plt.suptitle('HMI_totalB_316_Gauss vs XRT and AIA filters', fontsize=24, fontweight='bold')\n",
    "\n",
    "# get the lines and texts inside legend box\n",
    "leg_lines = leg.get_lines()\n",
    "leg_texts = leg.get_texts()\n",
    "# bulk-set the properties of all lines and texts\n",
    "plt.setp(leg_lines, linewidth=6)\n",
    "plt.setp(leg_texts, fontsize='xx-large')\n",
    "#plt.grid(True, linewidth=2, which='major')\n",
    "\n",
    "plt.show()"
   ]
  },
  {
   "cell_type": "markdown",
   "metadata": {},
   "source": [
    "## Plot HMI_los_1000_Gauss vs XRT and AIA filters"
   ]
  },
  {
   "cell_type": "code",
   "execution_count": 200,
   "metadata": {},
   "outputs": [
    {
     "data": {
      "text/plain": [
       "<Figure size 432x288 with 0 Axes>"
      ]
     },
     "metadata": {},
     "output_type": "display_data"
    }
   ],
   "source": [
    "# Set figure\n",
    "#fig, ax1 = plt.subplots(1, figsize=(15,10)) # Comment out this line if you want to hide plot\n",
    "\n",
    "# XRT filters\n",
    "lns1 = ax1.plot(HMI_los_1000_Gauss_newYvals, Al_Mesh_newYvals, 'r8', markersize = 5, label = 'Al_Mesh')\n",
    "lns2 = ax1.plot(HMI_los_1000_Gauss_newYvals, Al_Poly_newYvals, 'b.', markersize = 4, label = 'Al_Poly')\n",
    "lns3 = ax1.plot(HMI_los_1000_Gauss_newYvals, Be_Thin_newYvals, 'g*', markersize = 6, label = 'Be_Thin')\n",
    "\n",
    "# AIA filters\n",
    "lns4 = ax1.plot(HMI_los_1000_Gauss_newYvals, AIA94A_newYvals, 'm+', markersize = 4, label = '94A')\n",
    "lns5 = ax1.plot(HMI_los_1000_Gauss_newYvals, AIA_FeXVIII_newYvals, 'c^', markersize = 5, label = 'FeXVIII')\n",
    "\n",
    "ax2 = ax1.twinx()\n",
    "\n",
    "# legend\n",
    "lns = lns1+lns2+lns3+lns4+lns5\n",
    "labs = [l.get_label() for l in lns]\n",
    "leg = ax1.legend(lns, labs, loc=0, markerscale=3, fontsize=16)\n",
    "\n",
    "# XRT and AIA axes formatting\n",
    "ax1.set_xlabel('Gauss', fontsize=20, fontweight='bold')\n",
    "ax1.set_ylabel('DN / sec', fontsize=20, fontweight='bold')\n",
    "ax1.xaxis.set_tick_params(labelsize=18)\n",
    "ax1.set_xscale('log')\n",
    "ax1.set_xlim([1e5, 1e7])\n",
    "\n",
    "ax1.yaxis.set_tick_params(labelsize=18)\n",
    "ax1.set_yscale('log')\n",
    "#ax1.set_ylim([0, 4.5e8])\n",
    "\n",
    "# HMI y-axis formatting\n",
    "ax2.set_ylabel('DN / sec', fontsize=20, fontweight='bold')\n",
    "ax2.yaxis.set_tick_params(labelsize=18)\n",
    "ax2.set_yscale('log')\n",
    "ax2.set_ylim([1.5e5, 0.5e9])\n",
    "\n",
    "plt.suptitle('HMI_los_1000_Gauss vs XRT and AIA filters', fontsize=24, fontweight='bold')\n",
    "\n",
    "# get the lines and texts inside legend box\n",
    "leg_lines = leg.get_lines()\n",
    "leg_texts = leg.get_texts()\n",
    "# bulk-set the properties of all lines and texts\n",
    "plt.setp(leg_lines, linewidth=6)\n",
    "plt.setp(leg_texts, fontsize='xx-large')\n",
    "#plt.grid(True, linewidth=2, which='major')\n",
    "\n",
    "plt.show()"
   ]
  },
  {
   "cell_type": "markdown",
   "metadata": {},
   "source": [
    "## Plot HMI_totalB_1000_Gauss vs XRT and AIA filters"
   ]
  },
  {
   "cell_type": "code",
   "execution_count": 133,
   "metadata": {},
   "outputs": [
    {
     "data": {
      "image/png": "[encoded data removed]",
      "text/plain": [
       "<Figure size 432x288 with 1 Axes>"
      ]
     },
     "metadata": {},
     "output_type": "display_data"
    }
   ],
   "source": [
    "# Set figure\n",
    "#fig, ax1 = plt.subplots(1, figsize=(15,10)) # Comment out this line if you want to hide plot\n",
    "\n",
    "# XRT filters\n",
    "lns1 = ax1.plot(HMI_totB_1000_Gauss_newYvals, Al_Mesh_newYvals, 'r8', markersize = 5, label = 'Al_Mesh')\n",
    "lns2 = ax1.plot(HMI_totB_1000_Gauss_newYvals, Al_Poly_newYvals, 'b.', markersize = 4, label = 'Al_Poly')\n",
    "lns3 = ax1.plot(HMI_totB_1000_Gauss_newYvals, Be_Thin_newYvals, 'g*', markersize = 6, label = 'Be_Thin')\n",
    "\n",
    "# AIA filters\n",
    "lns4 = ax1.plot(HMI_totB_1000_Gauss_newYvals, AIA94A_newYvals, 'ms', markersize = 4, label = '94A')\n",
    "lns5 = ax1.plot(HMI_totB_1000_Gauss_newYvals, AIA_FeXVIII_newYvals, 'c^', markersize = 5, label = 'FeXVIII')\n",
    "\n",
    "ax2 = ax1.twinx()\n",
    "\n",
    "# legend\n",
    "lns = lns1+lns2+lns3+lns4+lns5\n",
    "labs = [l.get_label() for l in lns]\n",
    "leg = ax1.legend(lns, labs, loc=0, markerscale=3, fontsize=16)\n",
    "\n",
    "# XRT and AIA axes formatting\n",
    "ax1.set_xlabel('Gauss', fontsize=20, fontweight='bold')\n",
    "ax1.set_ylabel('DN / sec', fontsize=20, fontweight='bold')\n",
    "ax1.xaxis.set_tick_params(labelsize=18)\n",
    "ax1.set_xscale('log')\n",
    "ax1.set_xlim([1e5, 1e7])\n",
    "ax1.yaxis.set_tick_params(labelsize=18)\n",
    "ax1.set_yscale('log')\n",
    "#ax1.set_ylim([0, 4.5e8])\n",
    "\n",
    "# HMI y-axis formatting\n",
    "ax2.set_ylabel('DN / sec', fontsize=20, fontweight='bold')\n",
    "ax2.yaxis.set_tick_params(labelsize=18)\n",
    "ax2.set_yscale('log')\n",
    "ax2.set_ylim([1.5e5, 0.5e9])\n",
    "\n",
    "plt.suptitle('HMI_totalB_1000_Gauss vs XRT and AIA filters', fontsize=24, fontweight='bold')\n",
    "\n",
    "# get the lines and texts inside legend box\n",
    "leg_lines = leg.get_lines()\n",
    "leg_texts = leg.get_texts()\n",
    "# bulk-set the properties of all lines and texts\n",
    "plt.setp(leg_lines, linewidth=6)\n",
    "plt.setp(leg_texts, fontsize='xx-large')\n",
    "plt.grid(True, linewidth=2, which='major')\n",
    "\n",
    "plt.show()"
   ]
  },
  {
   "cell_type": "markdown",
   "metadata": {},
   "source": [
    "## Plot HMI_los_Pos_Gauss vs XRT and AIA filters"
   ]
  },
  {
   "cell_type": "code",
   "execution_count": 134,
   "metadata": {
    "scrolled": false
   },
   "outputs": [
    {
     "data": {
      "image/png": "[encoded data removed]",
      "text/plain": [
       "<Figure size 432x288 with 1 Axes>"
      ]
     },
     "metadata": {},
     "output_type": "display_data"
    }
   ],
   "source": [
    "# Set figure\n",
    "#fig, ax1 = plt.subplots(1, figsize=(15,10)) # Comment out this line if you want to hide plot\n",
    "\n",
    "# XRT filters\n",
    "lns1 = ax1.plot(HMIlosPos_newYvals, Al_Mesh_newYvals, 'r8', markersize = 5, label = 'Al_Mesh')\n",
    "lns2 = ax1.plot(HMIlosPos_newYvals, Al_Poly_newYvals, 'b.', markersize = 4, label = 'Al_Poly')\n",
    "lns3 = ax1.plot(HMIlosPos_newYvals, Be_Thin_newYvals, 'g*', markersize = 6, label = 'Be_Thin')\n",
    "\n",
    "# AIA filters\n",
    "lns4 = ax1.plot(HMIlosPos_newYvals, AIA94A_newYvals, 'm+', markersize = 4, label = '94A')\n",
    "lns5 = ax1.plot(HMIlosPos_newYvals, AIA_FeXVIII_newYvals, 'c^', markersize = 5, label = 'FeXVIII')\n",
    "\n",
    "ax2 = ax1.twinx()\n",
    "\n",
    "# legend\n",
    "lns = lns1+lns2+lns3+lns4+lns5\n",
    "labs = [l.get_label() for l in lns]\n",
    "leg = ax1.legend(lns, labs, loc=0, markerscale=3, fontsize=16)\n",
    "\n",
    "# XRT and AIA axes formatting\n",
    "ax1.set_xlabel('Gauss', fontsize=20, fontweight='bold')\n",
    "ax1.set_ylabel('DN / sec', fontsize=20, fontweight='bold')\n",
    "ax1.xaxis.set_tick_params(labelsize=18)\n",
    "ax1.set_xscale('log')\n",
    "ax1.yaxis.set_tick_params(labelsize=18)\n",
    "ax1.set_yscale('log')\n",
    "#ax1.set_ylim([0, 4.5e8])\n",
    "\n",
    "# HMI y-axis formatting\n",
    "ax2.set_ylabel('DN / sec', fontsize=20, fontweight='bold')\n",
    "ax2.yaxis.set_tick_params(labelsize=18)\n",
    "ax2.set_yscale('log')\n",
    "ax2.set_ylim([1.5e5, 0.5e9])\n",
    "\n",
    "plt.suptitle('HMI_los_Pos_Gauss vs XRT and AIA filters', fontsize=24, fontweight='bold')\n",
    "\n",
    "# get the lines and texts inside legend box\n",
    "leg_lines = leg.get_lines()\n",
    "leg_texts = leg.get_texts()\n",
    "# bulk-set the properties of all lines and texts\n",
    "plt.setp(leg_lines, linewidth=6)\n",
    "plt.setp(leg_texts, fontsize='xx-large')\n",
    "plt.grid(True, linewidth=2, which='major')\n",
    "\n",
    "plt.show()"
   ]
  },
  {
   "cell_type": "code",
   "execution_count": 135,
   "metadata": {},
   "outputs": [],
   "source": [
    "#######################################################################################################################"
   ]
  },
  {
   "cell_type": "code",
   "execution_count": 136,
   "metadata": {},
   "outputs": [],
   "source": [
    "#######################################################################################################################"
   ]
  },
  {
   "cell_type": "markdown",
   "metadata": {},
   "source": [
    "# Time Series Plots"
   ]
  },
  {
   "cell_type": "markdown",
   "metadata": {},
   "source": [
    "## Plot HMI_los_Pos_Gauss vs XRT and AIA filters"
   ]
  },
  {
   "cell_type": "code",
   "execution_count": 144,
   "metadata": {
    "scrolled": false
   },
   "outputs": [
    {
     "data": {
      "text/plain": [
       "<Figure size 432x288 with 0 Axes>"
      ]
     },
     "metadata": {},
     "output_type": "display_data"
    }
   ],
   "source": [
    "# Set figure\n",
    "#fig, ax1 = plt.subplots(1, figsize=(15,10)) # Comment out this line if you want to hide plot\n",
    "\n",
    "# XRT filters\n",
    "lns1 = ax1.plot(Be_Thin_daterange, Al_Mesh_newYvals, 'r-', markersize = 4, label = 'Al_Mesh')\n",
    "lns2 = ax1.plot(Be_Thin_daterange, Al_Poly_newYvals, 'b-', markersize = 4, label = 'Al_Poly')\n",
    "lns3 = ax1.plot(Be_Thin_daterange, Be_Thin_newYvals, 'g-', markersize = 4, label = 'Be_Thin')\n",
    "\n",
    "# AIA filters\n",
    "lns4 = ax1.plot(Be_Thin_daterange, AIA94A_newYvals, 'm-', markersize = 4, label = '94A')\n",
    "lns5 = ax1.plot(Be_Thin_daterange, AIA_FeXVIII_newYvals, 'c-', markersize = 4, label = 'FeXVIII')\n",
    "\n",
    "# HMI \n",
    "ax2 = ax1.twinx()\n",
    "lns6 = ax2.plot(Be_Thin_daterange, HMIlosPos_newYvals, 'tab:purple', markersize = 3, label = 'HMI_Pos_los')\n",
    "\n",
    "# legend\n",
    "lns = lns1+lns2+lns3+lns4+lns5+lns6\n",
    "labs = [l.get_label() for l in lns]\n",
    "leg = ax1.legend(lns, labs, loc=1, fontsize=16)\n",
    "\n",
    "# Format date on x-axis\n",
    "fig.autofmt_xdate()\n",
    "ax1.xaxis_date()\n",
    "ax1.xaxis.set_major_formatter(mdates.DateFormatter(\"%Y-%b-%d\"))\n",
    "\n",
    "# XRT and AIA axes formatting\n",
    "ax1.set_xlabel('Time [UTC]', fontsize=20, fontweight='bold')\n",
    "ax1.set_ylabel('DN / sec', fontsize=20, fontweight='bold')\n",
    "ax1.xaxis.set_tick_params(labelsize=18)\n",
    "ax1.yaxis.set_tick_params(labelsize=18)\n",
    "ax1.set_yscale('log')\n",
    "#ax1.set_ylim([0, 4.5e8])\n",
    "\n",
    "# HMI y-axis formatting\n",
    "ax2.set_ylabel('(HMI) Gauss', fontsize=20, fontweight='bold')\n",
    "ax2.yaxis.set_tick_params(labelsize=18)\n",
    "ax2.set_yscale('log')\n",
    "\n",
    "plt.suptitle('HMI_los_Pos_Gauss, XRT filters, and AIA filters', fontsize=24, fontweight='bold')\n",
    "\n",
    "# get the lines and texts inside legend box\n",
    "leg_lines = leg.get_lines()\n",
    "leg_texts = leg.get_texts()\n",
    "# bulk-set the properties of all lines and texts\n",
    "plt.setp(leg_lines, linewidth=6)\n",
    "plt.setp(leg_texts, fontsize='xx-large')\n",
    "\n",
    "plt.show()"
   ]
  },
  {
   "cell_type": "code",
   "execution_count": 138,
   "metadata": {},
   "outputs": [],
   "source": [
    "#######################################################################################################################"
   ]
  },
  {
   "cell_type": "code",
   "execution_count": 139,
   "metadata": {},
   "outputs": [],
   "source": [
    "#######################################################################################################################"
   ]
  },
  {
   "cell_type": "markdown",
   "metadata": {},
   "source": [
    "## Plot (ALL - NORMALIZED) HMI Total B 316/1000 G, and HMI los 316/1000 G"
   ]
  },
  {
   "cell_type": "code",
   "execution_count": 177,
   "metadata": {
    "scrolled": false
   },
   "outputs": [
    {
     "data": {
      "image/png": "[encoded data removed]",
      "text/plain": [
       "<Figure size 1080x720 with 1 Axes>"
      ]
     },
     "metadata": {},
     "output_type": "display_data"
    }
   ],
   "source": [
    "# Set figure\n",
    "fig, ax1 = plt.subplots(1, figsize=(15,10)) # Comment out this line if you want to hide plot\n",
    "\n",
    "# HMI Total B 316/1000 G\n",
    "lns1 = ax1.plot(Be_Thin_daterange, HMI_totalB_316_Gauss_normalized, 'k-', markersize = 4, label = 'HMI_Total_B_316')\n",
    "lns2 = ax1.plot(Be_Thin_daterange, HMI_totalB_1000_Gauss_normalized, 'y-', markersize = 4, label = 'HMI_Total_B_1000')\n",
    "\n",
    "# HMI los 316/1000 G\n",
    "lns3 = ax1.plot(Be_Thin_daterange, HMI_los_316_Gauss_normalized, 'tab:orange', markersize = 4, label = 'HMI_los_316')\n",
    "lns4 = ax1.plot(Be_Thin_daterange, HMI_los_1000_Gauss_normalized, 'tab:brown', markersize = 4, label = 'HMI_los_1000')\n",
    "\n",
    "# legend\n",
    "lns = lns1+lns2+lns3+lns4\n",
    "labs = [l.get_label() for l in lns]\n",
    "leg = ax1.legend(lns, labs, loc=9, fontsize=16)\n",
    "\n",
    "# Format date on x-axis\n",
    "fig.autofmt_xdate()\n",
    "ax1.xaxis_date()\n",
    "ax1.xaxis.set_major_formatter(mdates.DateFormatter(\"%Y-%b-%d\"))\n",
    "\n",
    "# HMI y-axis formatting\n",
    "ax1.set_xlabel('Time [UTC]', fontsize=20, fontweight='bold')\n",
    "ax1.set_ylabel('Normalized', fontsize=20, fontweight='bold')\n",
    "ax1.xaxis.set_tick_params(labelsize=18)\n",
    "ax1.yaxis.set_tick_params(labelsize=18)\n",
    "#ax1.set_yscale('log')\n",
    "\n",
    "plt.suptitle('HMI Pos/Neg (los), HMI_Total_B 316/1000 G, and HMI_los 316/1000 G', fontsize=24, fontweight='bold')\n",
    "\n",
    "# get the lines and texts inside legend box\n",
    "leg_lines = leg.get_lines()\n",
    "leg_texts = leg.get_texts()\n",
    "# bulk-set the properties of all lines and texts\n",
    "plt.setp(leg_lines, linewidth=6)\n",
    "plt.setp(leg_texts, fontsize='xx-large')\n",
    "\n",
    "plt.show()"
   ]
  },
  {
   "cell_type": "markdown",
   "metadata": {},
   "source": [
    "## Plot (ALL - NORMALIZED) HMI Total B 316/1000 G and XRT filters"
   ]
  },
  {
   "cell_type": "code",
   "execution_count": 148,
   "metadata": {},
   "outputs": [
    {
     "data": {
      "text/plain": [
       "<Figure size 432x288 with 0 Axes>"
      ]
     },
     "metadata": {},
     "output_type": "display_data"
    }
   ],
   "source": [
    "# Set figure\n",
    "#fig, ax1 = plt.subplots(1, figsize=(15,10)) # Comment out this line if you want to hide plot\n",
    "\n",
    "# XRT filters\n",
    "lns1 = ax1.plot(Be_Thin_daterange, XRT_Al_Mesh_normalized, 'r-', markersize = 4, label = 'Al_Mesh')\n",
    "lns2 = ax1.plot(Be_Thin_daterange, XRT_Al_Poly_normalized, 'b-', markersize = 4, label = 'Al_Poly')\n",
    "lns3 = ax1.plot(Be_Thin_daterange, XRT_Be_Thin_normalized, 'g-', markersize = 4, label = 'Be_Thin')\n",
    "\n",
    "# HMI Total B 316/1000 G\n",
    "lns4 = ax1.plot(Be_Thin_daterange, HMI_totalB_316_Gauss_normalized, 'k-', markersize = 4, label = 'HMI_Total_B_316')\n",
    "lns5 = ax1.plot(Be_Thin_daterange, HMI_totalB_1000_Gauss_normalized, 'y-', markersize = 4, label = 'HMI_Total_B_1000')\n",
    "\n",
    "# legend\n",
    "lns = lns1+lns2+lns3+lns4+lns5\n",
    "labs = [l.get_label() for l in lns]\n",
    "leg = ax1.legend(lns, labs, loc=9, fontsize=16)\n",
    "\n",
    "# Format date on x-axis\n",
    "fig.autofmt_xdate()\n",
    "ax1.xaxis_date()\n",
    "ax1.xaxis.set_major_formatter(mdates.DateFormatter(\"%Y-%b-%d\"))\n",
    "\n",
    "# XRT and AIA axes formatting\n",
    "ax1.set_xlabel('Time [UTC]', fontsize=20, fontweight='bold')\n",
    "ax1.set_ylabel('Normalized', fontsize=20, fontweight='bold')\n",
    "ax1.xaxis.set_tick_params(labelsize=18)\n",
    "ax1.yaxis.set_tick_params(labelsize=18)\n",
    "#ax1.set_yscale('log')\n",
    "#ax1.set_ylim([0, 4.5e8])\n",
    "\n",
    "plt.suptitle('HMI Total B 316/1000 G and XRT filters', fontsize=24, fontweight='bold')\n",
    "\n",
    "# get the lines and texts inside legend box\n",
    "leg_lines = leg.get_lines()\n",
    "leg_texts = leg.get_texts()\n",
    "# bulk-set the properties of all lines and texts\n",
    "plt.setp(leg_lines, linewidth=6)\n",
    "plt.setp(leg_texts, fontsize='xx-large')\n",
    "\n",
    "plt.show()"
   ]
  },
  {
   "cell_type": "markdown",
   "metadata": {},
   "source": [
    "## Plot (ALL - NORMALIZED) HMI Total B 316/1000 G and AIA filters"
   ]
  },
  {
   "cell_type": "code",
   "execution_count": 150,
   "metadata": {},
   "outputs": [
    {
     "data": {
      "text/plain": [
       "<Figure size 432x288 with 0 Axes>"
      ]
     },
     "metadata": {},
     "output_type": "display_data"
    }
   ],
   "source": [
    "# Set figure\n",
    "#fig, ax1 = plt.subplots(1, figsize=(15,10)) # Comment out this line if you want to hide plot\n",
    "\n",
    "# AIA filters\n",
    "lns1 = ax1.plot(Be_Thin_daterange, AIA_94A_normalized, 'm-', markersize = 4, label = '94A')\n",
    "lns2 = ax1.plot(Be_Thin_daterange, AIA_FeXVIII_normalized, 'c-', markersize = 4, label = 'FeXVIII')\n",
    "\n",
    "# HMI Total B 316/1000 G\n",
    "\n",
    "lns3 = ax1.plot(Be_Thin_daterange, HMI_totalB_316_Gauss_normalized, 'k-', markersize = 4, label = 'HMI_Total_B_316')\n",
    "lns4 = ax1.plot(Be_Thin_daterange, HMI_totalB_1000_Gauss_normalized, 'y-', markersize = 4, label = 'HMI_Total_B_1000')\n",
    "\n",
    "# legend\n",
    "lns = lns1+lns2+lns3+lns4\n",
    "labs = [l.get_label() for l in lns]\n",
    "leg = ax1.legend(lns, labs, loc=9, fontsize=16)\n",
    "\n",
    "# Format date on x-axis\n",
    "fig.autofmt_xdate()\n",
    "ax1.xaxis_date()\n",
    "ax1.xaxis.set_major_formatter(mdates.DateFormatter(\"%Y-%b-%d\"))\n",
    "\n",
    "# XRT and AIA axes formatting\n",
    "ax1.set_xlabel('Time [UTC]', fontsize=20, fontweight='bold')\n",
    "ax1.set_ylabel('Normalized', fontsize=20, fontweight='bold')\n",
    "ax1.xaxis.set_tick_params(labelsize=18)\n",
    "ax1.yaxis.set_tick_params(labelsize=18)\n",
    "#ax1.set_yscale('log')\n",
    "#ax1.set_ylim([0, 4.5e8])\n",
    "\n",
    "plt.suptitle('HMI Total B 316/1000 G and AIA filters', fontsize=24, fontweight='bold')\n",
    "\n",
    "# get the lines and texts inside legend box\n",
    "leg_lines = leg.get_lines()\n",
    "leg_texts = leg.get_texts()\n",
    "# bulk-set the properties of all lines and texts\n",
    "plt.setp(leg_lines, linewidth=6)\n",
    "plt.setp(leg_texts, fontsize='xx-large')\n",
    "\n",
    "plt.show()"
   ]
  },
  {
   "cell_type": "markdown",
   "metadata": {},
   "source": [
    "## Plot (ALL - NORMALIZED) HMI_los 316/1000 G and XRT filters"
   ]
  },
  {
   "cell_type": "code",
   "execution_count": 151,
   "metadata": {},
   "outputs": [
    {
     "data": {
      "text/plain": [
       "<Figure size 432x288 with 0 Axes>"
      ]
     },
     "metadata": {},
     "output_type": "display_data"
    }
   ],
   "source": [
    "# Set figure\n",
    "#fig, ax1 = plt.subplots(1, figsize=(15,10)) # Comment out this line if you want to hide plot\n",
    "\n",
    "# XRT filters\n",
    "lns1 = ax1.plot(Be_Thin_daterange, XRT_Al_Mesh_normalized, 'r-', markersize = 5, label = 'Al_Mesh')\n",
    "lns2 = ax1.plot(Be_Thin_daterange, XRT_Al_Poly_normalized, 'b-', markersize = 5, label = 'Al_Poly')\n",
    "lns3 = ax1.plot(Be_Thin_daterange, XRT_Be_Thin_normalized, 'g-', markersize = 5, label = 'Be_Thin')\n",
    "\n",
    "# HMI los 316/1000 G\n",
    "lns4 = ax1.plot(Be_Thin_daterange, HMI_los_316_Gauss_normalized, 'tab:orange', markersize = 5, label = 'HMI_los_316')\n",
    "lns5 = ax1.plot(Be_Thin_daterange, HMI_los_1000_Gauss_normalized, 'tab:brown', markersize = 5, label = 'HMI_los_1000')\n",
    "\n",
    "# legend\n",
    "lns = lns1+lns2+lns3+lns4+lns5\n",
    "labs = [l.get_label() for l in lns]\n",
    "leg = ax1.legend(lns, labs, loc=9, markerscale=3, fontsize=20)\n",
    "\n",
    "# Format date on x-axis\n",
    "fig.autofmt_xdate()\n",
    "ax1.xaxis_date()\n",
    "ax1.xaxis.set_major_formatter(mdates.DateFormatter(\"%Y-%b-%d\"))\n",
    "\n",
    "# XRT and AIA axes formatting\n",
    "ax1.set_xlabel('Time [UTC]', fontsize=20, fontweight='bold')\n",
    "ax1.set_ylabel('Normalized', fontsize=20, fontweight='bold')\n",
    "ax1.xaxis.set_tick_params(labelsize=18)\n",
    "ax1.yaxis.set_tick_params(labelsize=18)\n",
    "#ax1.set_yscale('log')\n",
    "#ax1.set_ylim([0, 4.5e8])\n",
    "\n",
    "plt.suptitle('HMI_los 316/1000 G and XRT filters', fontsize=24, fontweight='bold')\n",
    "\n",
    "# get the lines and texts inside legend box\n",
    "leg_lines = leg.get_lines()\n",
    "leg_texts = leg.get_texts()\n",
    "# bulk-set the properties of all lines and texts\n",
    "plt.setp(leg_lines, linewidth=6)\n",
    "plt.setp(leg_texts, fontsize='xx-large')\n",
    "\n",
    "plt.show()"
   ]
  },
  {
   "cell_type": "markdown",
   "metadata": {},
   "source": [
    "## Plot (ALL - NORMALIZED) HMI_los 316/1000 G and AIA filters"
   ]
  },
  {
   "cell_type": "code",
   "execution_count": 152,
   "metadata": {},
   "outputs": [
    {
     "data": {
      "text/plain": [
       "<Figure size 432x288 with 0 Axes>"
      ]
     },
     "metadata": {},
     "output_type": "display_data"
    }
   ],
   "source": [
    "# Set figure\n",
    "#fig, ax1 = plt.subplots(1, figsize=(15,10)) # Comment out this line if you want to hide plot\n",
    "\n",
    "# AIA filters\n",
    "lns1 = ax1.plot(Be_Thin_daterange, AIA_94A_normalized, 'm-', markersize = 5, label = '94A')\n",
    "lns2 = ax1.plot(Be_Thin_daterange, AIA_FeXVIII_normalized, 'c-', markersize = 5, label = 'FeXVIII')\n",
    "\n",
    "# HMI los 316/1000 G\n",
    "lns3 = ax1.plot(Be_Thin_daterange, HMI_los_316_Gauss_normalized, 'tab:orange', markersize = 5, label = 'HMI_los_316')\n",
    "lns4 = ax1.plot(Be_Thin_daterange, HMI_los_1000_Gauss_normalized, 'tab:brown', markersize = 5, label = 'HMI_los_1000')\n",
    "\n",
    "# legend\n",
    "lns = lns1+lns2+lns3+lns4\n",
    "labs = [l.get_label() for l in lns]\n",
    "leg = ax1.legend(lns, labs, loc=9, markerscale=3, fontsize=20)\n",
    "\n",
    "# Format date on x-axis\n",
    "fig.autofmt_xdate()\n",
    "ax1.xaxis_date()\n",
    "ax1.xaxis.set_major_formatter(mdates.DateFormatter(\"%Y-%b-%d\"))\n",
    "\n",
    "# XRT and AIA axes formatting\n",
    "ax1.set_xlabel('Time [UTC]', fontsize=20, fontweight='bold')\n",
    "ax1.set_ylabel('Normalized', fontsize=20, fontweight='bold')\n",
    "ax1.xaxis.set_tick_params(labelsize=18)\n",
    "ax1.yaxis.set_tick_params(labelsize=18)\n",
    "#ax1.set_yscale('log')\n",
    "#ax1.set_ylim([0, 4.5e8])\n",
    "\n",
    "plt.suptitle('HMI_los 316/1000 G and AIA filters', fontsize=20, fontweight='bold')\n",
    "\n",
    "# get the lines and texts inside legend box\n",
    "leg_lines = leg.get_lines()\n",
    "leg_texts = leg.get_texts()\n",
    "# bulk-set the properties of all lines and texts\n",
    "plt.setp(leg_lines, linewidth=6)\n",
    "plt.setp(leg_texts, fontsize='xx-large')\n",
    "\n",
    "plt.show()"
   ]
  }
 ],
 "metadata": {
  "kernelspec": {
   "display_name": "Python 3",
   "language": "python",
   "name": "python3"
  },
  "language_info": {
   "codemirror_mode": {
    "name": "ipython",
    "version": 3
   },
   "file_extension": ".py",
   "mimetype": "text/x-python",
   "name": "python",
   "nbconvert_exporter": "python",
   "pygments_lexer": "ipython3",
   "version": "3.6.5"
  }
 },
 "nbformat": 4,
 "nbformat_minor": 2
}
